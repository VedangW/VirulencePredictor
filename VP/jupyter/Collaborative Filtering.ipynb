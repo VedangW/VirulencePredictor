{
 "cells": [
  {
   "cell_type": "markdown",
   "metadata": {},
   "source": [
    "**Environment and Data**"
   ]
  },
  {
   "cell_type": "code",
   "execution_count": 1,
   "metadata": {},
   "outputs": [],
   "source": [
    "import pickle\n",
    "import pandas as pd\n",
    "\n",
    "from surprise import NMF, SVD\n",
    "from surprise import Reader, Dataset, evaluate\n",
    "from surprise.model_selection import train_test_split\n",
    "from sklearn.metrics import accuracy_score"
   ]
  },
  {
   "cell_type": "code",
   "execution_count": 29,
   "metadata": {},
   "outputs": [],
   "source": [
    "# Load and preprocess data\n",
    "with open('data/graph_info_bin.pkl') as f:\n",
    "    graph = pickle.load(f)\n",
    "    \n",
    "num_users, num_items, u_nodes, v_nodes, ratings = graph\n",
    "\n",
    "# Create dataframe\n",
    "df = pd.DataFrame({'uid': u_nodes,\n",
    "                  'vid': v_nodes,\n",
    "                  'ratings': ratings})\n",
    "\n",
    "# Transform IDs to starting from 1\n",
    "df['uid'] = df['uid'].apply(lambda x: x + 1)\n",
    "df['vid'] = df['vid'].apply(lambda x: x + 1)\n",
    "\n",
    "# Load dataset into readable format\n",
    "reader = Reader(rating_scale=(1, 2))\n",
    "data = Dataset.load_from_df(df[['uid', 'vid', 'ratings']], reader)\n",
    "\n",
    "# Split into train and test sets\n",
    "train, test = train_test_split(data, test_size=.2, shuffle=True)"
   ]
  },
  {
   "cell_type": "markdown",
   "metadata": {},
   "source": [
    "**First runs**"
   ]
  },
  {
   "cell_type": "code",
   "execution_count": 13,
   "metadata": {},
   "outputs": [
    {
     "name": "stdout",
     "output_type": "stream",
     "text": [
      "Evaluating RMSE of algorithm NMF.\n",
      "\n",
      "------------\n",
      "Fold 1\n",
      "RMSE: 0.4396\n",
      "------------\n",
      "Fold 2\n",
      "RMSE: 0.4936\n",
      "------------\n",
      "Fold 3\n",
      "RMSE: 0.4990\n",
      "------------\n",
      "Fold 4\n",
      "RMSE: 0.4718\n",
      "------------\n",
      "Fold 5\n",
      "RMSE: 0.4562\n",
      "------------\n",
      "------------\n",
      "Mean RMSE: 0.4720\n",
      "------------\n",
      "------------\n"
     ]
    },
    {
     "data": {
      "text/plain": [
       "CaseInsensitiveDefaultDict(list,\n",
       "                           {'rmse': [0.4395893663547196,\n",
       "                             0.4935613810144348,\n",
       "                             0.49896207197749554,\n",
       "                             0.47175418083408943,\n",
       "                             0.4562003647632732]})"
      ]
     },
     "execution_count": 13,
     "metadata": {},
     "output_type": "execute_result"
    }
   ],
   "source": [
    "nmf = NMF()\n",
    "evaluate(nmf, data, measures=['RMSE'])"
   ]
  },
  {
   "cell_type": "code",
   "execution_count": 12,
   "metadata": {},
   "outputs": [
    {
     "name": "stdout",
     "output_type": "stream",
     "text": [
      "Evaluating RMSE of algorithm SVD.\n",
      "\n",
      "------------\n",
      "Fold 1\n",
      "RMSE: 0.4638\n",
      "------------\n",
      "Fold 2\n",
      "RMSE: 0.4273\n",
      "------------\n",
      "Fold 3\n",
      "RMSE: 0.4884\n",
      "------------\n",
      "Fold 4\n",
      "RMSE: 0.4572\n",
      "------------\n",
      "Fold 5\n",
      "RMSE: 0.4680\n",
      "------------\n",
      "------------\n",
      "Mean RMSE: 0.4609\n",
      "------------\n",
      "------------\n"
     ]
    },
    {
     "data": {
      "text/plain": [
       "CaseInsensitiveDefaultDict(list,\n",
       "                           {'rmse': [0.46384466483847964,\n",
       "                             0.4272503285406667,\n",
       "                             0.48843894905895935,\n",
       "                             0.4571721451750262,\n",
       "                             0.4679857239392926]})"
      ]
     },
     "execution_count": 12,
     "metadata": {},
     "output_type": "execute_result"
    }
   ],
   "source": [
    "svd = SVD()\n",
    "evaluate(svd, data, measures=['RMSE'])"
   ]
  },
  {
   "cell_type": "markdown",
   "metadata": {},
   "source": [
    "**Choosing Paramters**"
   ]
  },
  {
   "cell_type": "code",
   "execution_count": 18,
   "metadata": {},
   "outputs": [],
   "source": [
    "def fit_and_predict(model, trainset, testset):\n",
    "    model.fit(trainset)\n",
    "    \n",
    "    labels = []\n",
    "    for _, _, rating in testset:\n",
    "        labels.append(rating)\n",
    "    \n",
    "    pred = model.test(testset)\n",
    "    \n",
    "    estimated = []\n",
    "    for p in pred:\n",
    "        estimated.append(p.est)\n",
    "    \n",
    "    return labels, estimated"
   ]
  },
  {
   "cell_type": "code",
   "execution_count": 20,
   "metadata": {},
   "outputs": [],
   "source": [
    "def accuracy(labels, est, thres=1.5):\n",
    "    pred = []\n",
    "    for i in range(len(est)):\n",
    "        if est[i] > thres:\n",
    "            pred.append(2.0)\n",
    "        else:\n",
    "            pred.append(1.0)\n",
    "    \n",
    "    return accuracy_score(labels, pred)"
   ]
  },
  {
   "cell_type": "code",
   "execution_count": 89,
   "metadata": {},
   "outputs": [],
   "source": [
    "labels, est = fit_and_predict(svd, train, test)"
   ]
  },
  {
   "cell_type": "code",
   "execution_count": 90,
   "metadata": {},
   "outputs": [],
   "source": [
    "import numpy as np\n",
    "import matplotlib.pyplot as plt\n",
    "%matplotlib inline"
   ]
  },
  {
   "cell_type": "code",
   "execution_count": 82,
   "metadata": {},
   "outputs": [],
   "source": [
    "ts = np.arange(1., 2., 0.05)\n",
    "accs, logs = [], []\n",
    "for t in ts:\n",
    "    acc = accuracy(labels, est, thres=t)\n",
    "    accs.append(acc)\n",
    "    logs.append(np.log(t))"
   ]
  },
  {
   "cell_type": "code",
   "execution_count": 83,
   "metadata": {},
   "outputs": [
    {
     "data": {
      "text/plain": [
       "[<matplotlib.lines.Line2D at 0x7f188e15c910>]"
      ]
     },
     "execution_count": 83,
     "metadata": {},
     "output_type": "execute_result"
    },
    {
     "data": {
      "image/png": "[encoded data removed]",
      "text/plain": [
       "<Figure size 432x288 with 1 Axes>"
      ]
     },
     "metadata": {
      "needs_background": "light"
     },
     "output_type": "display_data"
    }
   ],
   "source": [
    "plt.plot(ts, accs)"
   ]
  },
  {
   "cell_type": "code",
   "execution_count": 84,
   "metadata": {},
   "outputs": [
    {
     "data": {
      "text/plain": [
       "[<matplotlib.lines.Line2D at 0x7f188e140d50>]"
      ]
     },
     "execution_count": 84,
     "metadata": {},
     "output_type": "execute_result"
    },
    {
     "data": {
      "image/png": "[encoded data removed]",
      "text/plain": [
       "<Figure size 432x288 with 1 Axes>"
      ]
     },
     "metadata": {
      "needs_background": "light"
     },
     "output_type": "display_data"
    }
   ],
   "source": [
    "plt.plot(logs, accs)"
   ]
  },
  {
   "cell_type": "code",
   "execution_count": 88,
   "metadata": {},
   "outputs": [],
   "source": [
    "# Split into train and test sets\n",
    "train, test = train_test_split(data, test_size=.2, shuffle=True)\n",
    "nmf = NMF()"
   ]
  },
  {
   "cell_type": "code",
   "execution_count": 91,
   "metadata": {},
   "outputs": [
    {
     "data": {
      "text/plain": [
       "0.6129032258064516"
      ]
     },
     "execution_count": 91,
     "metadata": {},
     "output_type": "execute_result"
    }
   ],
   "source": [
    "accuracy(labels, est, thres=1.2)"
   ]
  },
  {
   "cell_type": "code",
   "execution_count": null,
   "metadata": {},
   "outputs": [],
   "source": []
  }
 ],
 "metadata": {
  "kernelspec": {
   "display_name": "Python 2",
   "language": "python",
   "name": "python2"
  },
  "language_info": {
   "codemirror_mode": {
    "name": "ipython",
    "version": 2
   },
   "file_extension": ".py",
   "mimetype": "text/x-python",
   "name": "python",
   "nbconvert_exporter": "python",
   "pygments_lexer": "ipython2",
   "version": "2.7.15"
  }
 },
 "nbformat": 4,
 "nbformat_minor": 2
}
