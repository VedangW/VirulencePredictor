{
 "cells": [
  {
   "cell_type": "code",
   "execution_count": 1,
   "metadata": {},
   "outputs": [],
   "source": [
    "import os\n",
    "import pickle\n",
    "import numpy as np\n",
    "import pandas as pd"
   ]
  },
  {
   "cell_type": "code",
   "execution_count": 5,
   "metadata": {},
   "outputs": [],
   "source": [
    "df = pd.read_csv('VirulencePredictor/VP/data/merged.csv')\n",
    "\n",
    "c = []\n",
    "for v in df['Influenza_virus_name'].unique():\n",
    "    c.append(change_format(v))\n",
    "    \n",
    "for i in range(len(c)):\n",
    "    try:\n",
    "        c[i] = add_slash(c[i])\n",
    "    except:\n",
    "        print c[i]\n",
    "    \n",
    "c_ = set(c)"
   ]
  },
  {
   "cell_type": "code",
   "execution_count": 8,
   "metadata": {},
   "outputs": [],
   "source": [
    "p = os.listdir('VirulencePredictor/VP/proteomes_virus/')\n",
    "\n",
    "for i in range(len(p)):\n",
    "    p[i] = p[i].split('.')\n",
    "    p[i].pop()\n",
    "    p[i].pop()\n",
    "    p[i].pop(0)\n",
    "    p[i] = '/'.join(p[i])\n",
    "    \n",
    "z = p\n",
    "for i in range(len(z)):\n",
    "    try:\n",
    "        z[i] = add_slash(z[i])\n",
    "    except:\n",
    "        print z[i]\n",
    "    \n",
    "z_ = set(z)"
   ]
  },
  {
   "cell_type": "code",
   "execution_count": 5,
   "metadata": {},
   "outputs": [],
   "source": [
    "def replace_with_dot(x):\n",
    "    x = x.split('/')\n",
    "    return '.'.join(x)"
   ]
  },
  {
   "cell_type": "code",
   "execution_count": 6,
   "metadata": {},
   "outputs": [
    {
     "data": {
      "text/plain": [
       "'A.Shanghai.466T.2013.H7N9.1'"
      ]
     },
     "execution_count": 6,
     "metadata": {},
     "output_type": "execute_result"
    }
   ],
   "source": [
    "replace_with_dot('A/Shanghai/466T/2013/H7N9/1')"
   ]
  },
  {
   "cell_type": "code",
   "execution_count": 7,
   "metadata": {},
   "outputs": [],
   "source": [
    "# Change the keys in the csv file\n",
    "df = pd.read_csv('VirulencePredictor/VP/data/merged.csv')\n",
    "df['Influenza_virus_name'] = df['Influenza_virus_name'].apply(lambda x: replace_with_dot(x))\n",
    "df.to_csv('VirulencePredictor/VP/data/merged.csv', sep=',')"
   ]
  },
  {
   "cell_type": "code",
   "execution_count": 18,
   "metadata": {},
   "outputs": [],
   "source": [
    "p = os.listdir('VirulencePredictor/VP/proteomes_virus/')\n",
    "\n",
    "for i in range(len(p)):\n",
    "    p[i] = p[i].split('.')\n",
    "    p[i].pop()\n",
    "    p[i].pop()\n",
    "    p[i].pop(0)\n",
    "    p[i] = '.'.join(p[i])"
   ]
  },
  {
   "cell_type": "code",
   "execution_count": 19,
   "metadata": {},
   "outputs": [
    {
     "data": {
      "text/plain": [
       "['A.Narita.1.2009.Egg15.H1N1.1',\n",
       " 'A.Panama.2007.1999.H3N2.4',\n",
       " 'A.California.04.MA2.I.2009.H1N1.1',\n",
       " 'A.Mexico.4482.2009.H1N1.1',\n",
       " 'A.AH1.KN.H7N9.1',\n",
       " 'rA.HH05(2345678).HH15(1).H1N1.1',\n",
       " 'A.SouthCarolina.1.1918.H1N1.1',\n",
       " 'A.Hunan.42443.2015.H1N1.1',\n",
       " 'A.Philippines.2.1982.H3N2.1',\n",
       " 'rA.hvPR8.1934.H1N1.1',\n",
       " 'A.Tennessee.1-560.2009.H1N1.1',\n",
       " 'rA.PR8(123578).UKR63(46).H3N8.1',\n",
       " 'A.Philippines.2.1982.H3N2.2',\n",
       " 'A.California.04.2009.H1N1.1',\n",
       " 'rA.HH05(1234678).HH15(5).H1N1.1',\n",
       " 'rA.BJ89(123578).PR8(46).H1N1.1',\n",
       " 'A.PR8F.1934.H1N1.1',\n",
       " 'A.Mexico.4108.2009.H1N1.1',\n",
       " 'rA.HH05(1235678).HH15(4).H1N1.1',\n",
       " 'A.swine.Texas.4199-2.1998.H3N2.1',\n",
       " 'A.Mexico.InDRE4487.2009.H1N1.1',\n",
       " 'A.hvPR8.1934.H1N1.1',\n",
       " 'rA.PuertoRico.8.1934.H1N1.1',\n",
       " 'rA.swine.Sweden.9706.2010.H1N2.1',\n",
       " 'A.ruddyturnstone.Delaware.650625.2002.H6N1.1',\n",
       " 'A.HongKong.156.1997.H5N1.2',\n",
       " 'A.HongKong.483.1997.H5N1.1',\n",
       " 'A.PR8.11C.1934.H1N1.1',\n",
       " 'A.HongKong.483.1997.H5N1.2',\n",
       " 'A.ma452-G3-2.2014.H5N8.1',\n",
       " 'A.Shanghai.4664T.2013.H7N9.1',\n",
       " 'A.Brisbane.10.2007.H3N2.2',\n",
       " 'rA.hvPR8(2345678).lvPR8(1).H1N1.1',\n",
       " 'rA.SWE1021(1345678).SWE9706(2).H1N2.1',\n",
       " 'A.WSN.1933.H1N1.2',\n",
       " 'A.HongKong.486.1997.H5N1.1',\n",
       " 'A.NewJersey.8.1976.H1N1.1',\n",
       " 'rA.swine.Sweden.1021.2009.H1N2.1',\n",
       " 'A.Panama.2007.1999.H3N2.2',\n",
       " 'A.ma468-G1-2.2014.H5N8.1',\n",
       " 'A.PR8.Mutant.H1N1.3',\n",
       " 'rA.PR8(2345678).PR8M(1).H1N1.1',\n",
       " 'rA.HH05(1345678).HH15(3).H1N1.1',\n",
       " 'A.Wisconsin.67.2005.H3N2.1',\n",
       " 'A.Panama.2007.1999.H3N2.3',\n",
       " 'A.Thailand.16.2004.H5N1.1',\n",
       " 'A.ma468-G2-2.2014.H5N8.1',\n",
       " 'rA.hvPR8(1234678).lvPR8(5).H1N1.1',\n",
       " 'rA.hvPR8(1234568).lvPR8(7).H1N1.1',\n",
       " 'A.PR8.11C.1934.H1N1.2',\n",
       " 'A.Thailand.KAN-1.2004.H5N1.1',\n",
       " 'rA.PR8(123578).ALB76(46).H1N1.2',\n",
       " 'A.AH1.EN.H7N9.1',\n",
       " 'A.Thailand.KAN-1.2004.H5N1.2',\n",
       " 'A.California.04.MA1.Y.2009.H1N1.1',\n",
       " 'rA.lvPR8.1934.H1N1.1',\n",
       " 'A.Memphis.1.1971.H3N2.1',\n",
       " 'rA.hvPR8(1234567).lvPR8(8).H1N1.1',\n",
       " 'A.NewCaledonia.20.1999.H1N1.1',\n",
       " 'rA.X-31.H3N2.2',\n",
       " 'A.swine.Spain.40564.2002.H1N2.1',\n",
       " 'A.duck.Ukraine.1.1963.H3N8.2',\n",
       " 'A.Bellamy.1942.H1N1.1',\n",
       " 'rA.K173(1235678).SC18(4).H1N1.1',\n",
       " 'A.Tennessee.1-560.MA1.I.2009.H1N1.1',\n",
       " 'A.environment.Korea.W468.2014.H5N8.1',\n",
       " 'A.Mexico.4108.2009.H1N1.2',\n",
       " 'A.duck.Alberta.35.1976.H1N1.1',\n",
       " 'A.turkey.Utah.24721-10.1995.H7N3.1',\n",
       " 'A.swan.Germany.R65.2006.H5N1.1',\n",
       " 'rA.hvPR8(12346).lvPR8(578).H1N1.1',\n",
       " 'A.ma468-G2-3.2014.H5N8.1',\n",
       " 'A.turkey.England.1963.H7N3.1',\n",
       " 'rA.K173(123578).SC18(46).H1N1.1',\n",
       " 'maA.HongKong.1.1968.H3N2.1',\n",
       " 'rA.PR8(1234578).PR8M(6).H1N1.1',\n",
       " 'B.Lee.1940.4',\n",
       " 'A.turkey.England.1963.H7N3.2',\n",
       " 'rA.Hamburg.NY1580.2009.H1N1.1',\n",
       " 'A.PR8.LAIV.1934.H1N1.2',\n",
       " 'A.ma468-G4-2.2014.H5N8.1',\n",
       " 'A.Thailand.16.2004.H5N1.2',\n",
       " 'A.seal.Massachussetts.1-SC35M.1980.H7N7.1',\n",
       " 'A.Texas.36.1991.H1N1.3',\n",
       " 'rA.PR8(123578).ALB76(46).H1N1.1',\n",
       " 'A.Narita.1.2009.MDCK.H1N1.1',\n",
       " 'A.Jiangsu.1.2011.H1N1.1',\n",
       " 'A.Hamburg.05.2009.H1N1.1',\n",
       " 'A.Narita.1.2009.MDCK15.H1N1.1',\n",
       " 'rA.PR8(1234567).KYG11(8).H1N1.1',\n",
       " 'A.PR8.Mutant.H1N1.1',\n",
       " 'A.Texas.36.1991.H1N1.2',\n",
       " 'A.swine.Spain.54008.2004.H3N2.1',\n",
       " 'A.Netherlands.219.2003.H7N7.1',\n",
       " 'rA.hvPR8(123578).lvPR8(46).H1N1.1',\n",
       " 'A.lvPR8.1934.H1N1.1',\n",
       " 'rA.hvPR8(1345678).lvPR8(2).H1N1.1',\n",
       " 'B.Lee.1940.2',\n",
       " 'rA.M88(123578).WSN33(46).H1N1.1',\n",
       " 'A.PR8.LAIV.1934.H1N1.3',\n",
       " 'A.VietNam.1204.2004.H5N1.1',\n",
       " 'rA.PR8(1234678).PR8M(5).H1N1.1',\n",
       " 'rA.BJ89(123578).PR8(46).H1N1.2',\n",
       " 'rA.PR8(1234567).MI63(8).H1N1.1',\n",
       " 'rA.WSN33(123578).SC18(46).H1N1.1',\n",
       " 'A.Brisbane.10.2007.H3N2.1',\n",
       " 'A.chicken.Korea.es.2003.H5N1.1',\n",
       " 'A.Kawasaki.UTK-4.2009.H1N1.1',\n",
       " 'A.Panama.2007.1999.H3N2.1',\n",
       " 'rA.HH05(1234567).HH15(8).H1N1.1',\n",
       " 'A.HongKong.1.1968.H3N2.3',\n",
       " 'rA.hvPR8(4).lvPR8(1235678).H1N1.1',\n",
       " 'rA.Hamburg.05.NP100I.2009.H1N1.1',\n",
       " 'A.Hamburg.NY1580.2009.H1N1.1',\n",
       " 'rA.BJ89(123578).PR8(46).H1N1.3',\n",
       " 'rA.hvPR8(46).lvPR8(123578).H1N1.1',\n",
       " 'A.Texas.15.2009.H1N1.1',\n",
       " 'rA.PR8(1234567).PR8M(8).H1N1.1',\n",
       " 'A.swine.Spain.53207.2004.H1N1.1',\n",
       " 'A.PR8.11C.1934.H1N1.3',\n",
       " 'rA.Hamburg.05.NP133L.2009.H1N1.1',\n",
       " 'B.Yamagata.16.1988.1',\n",
       " 'A.Kawasaki.173.2001.H1N1.1',\n",
       " 'rA.hvPR8(6).lvPR8(1234578).H1N1.1',\n",
       " 'A.HongKong.1.1968.H3N2.2',\n",
       " 'rA.PR8(1234678).NL94(5).G384R.H1N1.1',\n",
       " 'A.mallard.Korea.W452.2014.H5N8.1',\n",
       " 'A.PR8.LAIV11C.1934.H1N1.1',\n",
       " 'rA.SWE1021(2).SWE9706(1345678).H1N2.1',\n",
       " 'rA.NL602(1235678).NY18(4).H1N1.1',\n",
       " 'rA.K173(123578).WSN33(46).H1N1.1',\n",
       " 'rA.PR8(1245678).PR8M(3).H1N1.1',\n",
       " 'A.VietNam.1203.2004.H5N1.1',\n",
       " 'A.ma452-G1-1.2014.H5N8.1',\n",
       " 'A.HongKong.483.1997.H5N1.3',\n",
       " 'A.duck.Ukraine.1.1963.H3N8.1',\n",
       " 'A.HongKong.156.1997.H5N1.1',\n",
       " 'rA.PR8(1345678).PR8M(2).H1N1.1',\n",
       " 'A.Brisbane.59.2007.H1N1.1',\n",
       " 'rA.PR8M(1235678).PR8F(4).H1N1.1',\n",
       " 'A.Brazil.11.1978.H1N1.1',\n",
       " 'A.ma452-G3-1.2014.H5N8.1',\n",
       " 'rA.PR8(1235678).PR8M(4).H1N1.1',\n",
       " 'A.chicken.Indonesia.7.2003.H5N1.1',\n",
       " 'rA.PR8(1234678).NL94(5).H1N1.1',\n",
       " 'A.HongKong.485.1997.H5N1.1',\n",
       " 'B.Lee.1940.1',\n",
       " 'A.swine.Kansas.77778.2007.H1N1.1',\n",
       " 'A.Narita.1.2009.Egg.H1N1.1',\n",
       " 'B.Victoria.2.1987.1',\n",
       " 'A.chicken.CT.260413-2.2003.H7N2.1',\n",
       " 'A.Narita.1.2009.Mouse15.H1N1.1',\n",
       " 'rA.HH05(1234578).HH15(6).H1N1.1',\n",
       " 'A.ma468-G1-1.2014.H5N8.1',\n",
       " 'A.turkey.VA.55.2002.H7N2.1',\n",
       " 'A.duck.Alberta.35.1976.H1N1.2',\n",
       " 'A.goose.HongKong.437-6.1999.H5N1.1',\n",
       " 'A.PuertoRico.8.1934.MountSinai.H1N1.1',\n",
       " 'A.WSN.1933.H1N1.1',\n",
       " 'A.California.04.MA1.I.2009.H1N1.1',\n",
       " 'A.ma452-G4-1.2014.H5N8.1',\n",
       " 'rA.Hamburg.05.NP373T.2009.H1N1.1',\n",
       " 'rA.PR8(4678).PR8M(1235).H1N1.1',\n",
       " 'A.NewCaledonia.20.1999.H1N1.2',\n",
       " 'rA.HH05(123578).HH15(46).H1N1.1',\n",
       " 'A.PR8.LAIV11C.1934.H1N1.2',\n",
       " 'A.PuertoRico.8.1934.H1N1.1',\n",
       " 'rA.hvPR8(1234578).lvPR8(6).H1N1.1',\n",
       " 'A.PuertoRico.8.1934.H1N1.2',\n",
       " 'rA.hvPR8(1245678).lvPR8(3).H1N1.1',\n",
       " 'rA.M88(123578).SC18(4).K173(6).H1N1.1',\n",
       " 'rA.SC18(1235678).TX91(4).H1N1.1',\n",
       " 'rA.SC18(45678).TX91(123).H1N1.1',\n",
       " 'A.PR8.LAIV.1934.H1N1.1',\n",
       " 'rA.Hamburg.05.2009.H1N1.1',\n",
       " 'A.Memphis.8.1988.H3N2.1',\n",
       " 'rA.hvPR8(1235678).lvPR8(4).H1N1.1',\n",
       " 'A.Anhui.1.2013.H7N9.1',\n",
       " 'rA.X-31.H3N2.1',\n",
       " 'rA.M88(123578).SC18(46).H1N1.1',\n",
       " 'rA.HH05(24678).HH15(135).H1N1.1',\n",
       " 'A.SolomonIslands.3.2006.H1N1.1',\n",
       " 'A.PR8M.1934.H1N1.1',\n",
       " 'A.ma468-G2-1.2014.H5N8.1',\n",
       " 'rA.PR8vMountSinai(1235678).BRAZ78(4).H1N1.1',\n",
       " 'A.PuertoRico.8.1934.H1N1.3',\n",
       " 'A.Philippines.2.1982.H3N2.3',\n",
       " 'A.Texas.36.1991.H1N1.1',\n",
       " 'A.Netherlands.602.2009.H1N1.1',\n",
       " 'B.Victoria.2.1987.2',\n",
       " 'rA.PR8(123578).UKR63(46).H3N8.2',\n",
       " 'A.HongKong.1.1968.H3N2.1',\n",
       " 'A.PR8.LAIV11C.1934.H1N1.3',\n",
       " 'A.Wisconsin.67.2005.H3N2.2',\n",
       " 'A.Tennessee.1-560.MA2.I.2009.H1N1.1',\n",
       " 'rA.hvPR8(123).lvPR8(45678).H1N1.1',\n",
       " 'A.HongKong.486.1997.H5N1.2',\n",
       " 'A.VietNam.1203.2004.H5N1.2',\n",
       " 'B.Lee.1940.3',\n",
       " 'A.Jiangsu.1.2011.H1N1.2',\n",
       " 'A.PR8.Mutant.H1N1.2',\n",
       " 'A.HongKong.485.1997.H5N1.2']"
      ]
     },
     "execution_count": 19,
     "metadata": {},
     "output_type": "execute_result"
    }
   ],
   "source": [
    "p"
   ]
  },
  {
   "cell_type": "code",
   "execution_count": 20,
   "metadata": {},
   "outputs": [],
   "source": [
    "c_ = set(df['Influenza_virus_name'].unique())\n",
    "p_ = set(p)"
   ]
  },
  {
   "cell_type": "code",
   "execution_count": 21,
   "metadata": {},
   "outputs": [
    {
     "data": {
      "text/plain": [
       "True"
      ]
     },
     "execution_count": 21,
     "metadata": {},
     "output_type": "execute_result"
    }
   ],
   "source": [
    "c_ == p_"
   ]
  },
  {
   "cell_type": "code",
   "execution_count": 22,
   "metadata": {},
   "outputs": [
    {
     "data": {
      "text/plain": [
       "set()"
      ]
     },
     "execution_count": 22,
     "metadata": {},
     "output_type": "execute_result"
    }
   ],
   "source": [
    "c_ - p_"
   ]
  },
  {
   "cell_type": "code",
   "execution_count": 23,
   "metadata": {},
   "outputs": [
    {
     "data": {
      "text/plain": [
       "set()"
      ]
     },
     "execution_count": 23,
     "metadata": {},
     "output_type": "execute_result"
    }
   ],
   "source": [
    "p_ - c_"
   ]
  },
  {
   "cell_type": "code",
   "execution_count": 24,
   "metadata": {},
   "outputs": [],
   "source": [
    "from quantiprot.utils.io import load_fasta_file"
   ]
  },
  {
   "cell_type": "code",
   "execution_count": 25,
   "metadata": {},
   "outputs": [],
   "source": [
    "f = load_fasta_file('VirulencePredictor/VP/proteomes_virus/MUT0001.A.PR8.LAIV.1934.H1N1.1.proteome.fasta')"
   ]
  },
  {
   "cell_type": "code",
   "execution_count": 26,
   "metadata": {},
   "outputs": [
    {
     "name": "stdout",
     "output_type": "stream",
     "text": [
      "Quantiprot SequenceSet object\n",
      "  'name': VirulencePredictor/VP/proteomes_virus/MUT0001.A.PR8.LAIV.1934.H1N1.1.proteome.fasta\n",
      "  'unique': True\n",
      "  number of sequences: 12\n"
     ]
    }
   ],
   "source": [
    "print f"
   ]
  },
  {
   "cell_type": "code",
   "execution_count": 28,
   "metadata": {},
   "outputs": [],
   "source": [
    "iden = f[0].identifier"
   ]
  },
  {
   "cell_type": "code",
   "execution_count": 30,
   "metadata": {},
   "outputs": [
    {
     "data": {
      "text/plain": [
       "'tr|MUT0001_MUTID0001p1_A/PR8/LAIV/1934(H1N1)_Seg1p1'"
      ]
     },
     "execution_count": 30,
     "metadata": {},
     "output_type": "execute_result"
    }
   ],
   "source": [
    "iden"
   ]
  },
  {
   "cell_type": "code",
   "execution_count": 40,
   "metadata": {},
   "outputs": [],
   "source": [
    "def change_iden(x):\n",
    "    x = x.split('|')[1].split('_')[-2]\n",
    "    x = change_format(x).split('/')\n",
    "    x = '.'.join(x)\n",
    "    return x"
   ]
  },
  {
   "cell_type": "code",
   "execution_count": 41,
   "metadata": {},
   "outputs": [
    {
     "data": {
      "text/plain": [
       "'A.PR8.LAIV.1934.H1N1.1'"
      ]
     },
     "execution_count": 41,
     "metadata": {},
     "output_type": "execute_result"
    }
   ],
   "source": [
    "change_iden(iden)"
   ]
  },
  {
   "cell_type": "code",
   "execution_count": 37,
   "metadata": {},
   "outputs": [],
   "source": [
    "def change_bracket(x):\n",
    "    \"\"\" A utility function to change brackets to slash\n",
    "        Eg. 'A/Netherlands/602/2009(H1N1)' is changed\n",
    "        to 'A/Netherlands/602/2009/H1N1'.\n",
    "\n",
    "        Primarily used in change_format().\n",
    "\n",
    "        Parameters\n",
    "        ----------\n",
    "        x: str\n",
    "            String to process.\n",
    "    \"\"\"\n",
    "\n",
    "    if x.endswith(')'):\n",
    "        x = x.split('(')\n",
    "        l = x[-1]\n",
    "        x.pop()\n",
    "        l = l.split(')')[0]\n",
    "        x = '('.join(x)\n",
    "        x += '/' + l\n",
    "    return x\n",
    "\n",
    "def change_format(x):\n",
    "    \"\"\" A utitlity function to add '/1' to all viruses\n",
    "        without more than one version and remove brackets\n",
    "        around influenza version.\n",
    "        Eg. 'A/Netherlands/602(H1N2)/3' is changed to\n",
    "        'A/Netherlands/602/H1N2/3' while\n",
    "        'A/Netherlands/602(H1N2)' is changed to\n",
    "        'A/Netherlands/602/H1N2/1'\n",
    "\n",
    "        Primarily used for virus_ids in feature extraction\n",
    "        of influenza.\n",
    "\n",
    "        Parameters\n",
    "        ---------\n",
    "        x: str\n",
    "            String to process.\n",
    "    \"\"\"\n",
    "    if x.endswith(')'):\n",
    "        x += '/1'\n",
    "    x = x.split('/')\n",
    "    l = x[-1]\n",
    "    x.pop()\n",
    "    x = '/'.join(x)\n",
    "    x = change_bracket(x)\n",
    "    x += '/' + l\n",
    "    return x"
   ]
  },
  {
   "cell_type": "code",
   "execution_count": 42,
   "metadata": {},
   "outputs": [
    {
     "data": {
      "text/plain": [
       "'A.Shanghai.4664T.2013.H7N9.1'"
      ]
     },
     "execution_count": 42,
     "metadata": {},
     "output_type": "execute_result"
    }
   ],
   "source": [
    "change_iden('>tr|ASSEM0002_KC853229p1_A/Shanghai/4664T/2013(H7N9)_Seg1p1')"
   ]
  },
  {
   "cell_type": "code",
   "execution_count": 53,
   "metadata": {},
   "outputs": [],
   "source": [
    "p = os.listdir('proteomes_new/')"
   ]
  },
  {
   "cell_type": "code",
   "execution_count": 54,
   "metadata": {},
   "outputs": [
    {
     "data": {
      "text/plain": [
       "202"
      ]
     },
     "execution_count": 54,
     "metadata": {},
     "output_type": "execute_result"
    }
   ],
   "source": [
    "len(p)"
   ]
  },
  {
   "cell_type": "code",
   "execution_count": 75,
   "metadata": {},
   "outputs": [],
   "source": [
    "def change_filename(x):\n",
    "    x = x.split('.')\n",
    "    x.pop()\n",
    "    x.pop()\n",
    "    strain = x[0]\n",
    "    x.pop(0)\n",
    "    x = '.'.join(x)\n",
    "    return x, strain"
   ]
  },
  {
   "cell_type": "code",
   "execution_count": 76,
   "metadata": {},
   "outputs": [
    {
     "data": {
      "text/plain": [
       "('A.Shanghai.4664T.2013.H7N9.1', 'ASSEM0002')"
      ]
     },
     "execution_count": 76,
     "metadata": {},
     "output_type": "execute_result"
    }
   ],
   "source": [
    "change_filename('ASSEM0002.A.Shanghai.4664T.2013.H7N9.1.proteome.fasta')"
   ]
  },
  {
   "cell_type": "code",
   "execution_count": 80,
   "metadata": {},
   "outputs": [],
   "source": [
    "q, n = {}, []\n",
    "for i in range(len(p)):\n",
    "    x, s = change_filename(p[i])\n",
    "    q[s] = x\n",
    "    n.append(x)"
   ]
  },
  {
   "cell_type": "code",
   "execution_count": 81,
   "metadata": {},
   "outputs": [
    {
     "data": {
      "text/plain": [
       "{'ASSEM0002': 'A.Shanghai.4664T.2013.H7N9.1',\n",
       " 'ASSEM0003': 'A.HongKong.156.1997.H5N1.1',\n",
       " 'ASSEM0004': 'A.HongKong.156.1997.H5N1.2',\n",
       " 'ASSEM0005': 'A.PR8F.1934.H1N1.1',\n",
       " 'ASSEM0006': 'A.PR8M.1934.H1N1.1',\n",
       " 'ASSEM0007': 'A.Hamburg.05.2009.H1N1.1',\n",
       " 'ASSEM0008': 'A.Hamburg.NY1580.2009.H1N1.1',\n",
       " 'ASSEM0009': 'A.Bellamy.1942.H1N1.1',\n",
       " 'ASSEM0010': 'A.HongKong.1.1968.H3N2.3',\n",
       " 'ASSEM0011': 'B.Victoria.2.1987.1',\n",
       " 'ASSEM0012': 'B.Victoria.2.1987.2',\n",
       " 'ASSEM0013': 'A.swine.Spain.54008.2004.H3N2.1',\n",
       " 'ASSEM0014': 'A.ma452-G1-1.2014.H5N8.1',\n",
       " 'ASSEM0015': 'A.ma452-G3-1.2014.H5N8.1',\n",
       " 'ASSEM0016': 'A.ma452-G3-2.2014.H5N8.1',\n",
       " 'ASSEM0017': 'A.ma452-G4-1.2014.H5N8.1',\n",
       " 'ASSEM0018': 'A.ma468-G1-1.2014.H5N8.1',\n",
       " 'ASSEM0019': 'A.ma468-G1-2.2014.H5N8.1',\n",
       " 'ASSEM0020': 'A.ma468-G2-1.2014.H5N8.1',\n",
       " 'ASSEM0021': 'A.ma468-G2-2.2014.H5N8.1',\n",
       " 'ASSEM0022': 'A.ma468-G2-3.2014.H5N8.1',\n",
       " 'ASSEM0023': 'A.ma468-G4-2.2014.H5N8.1',\n",
       " 'ASSEM0026': 'rA.X-31.H3N2.1',\n",
       " 'ASSEM0027': 'rA.X-31.H3N2.2',\n",
       " 'ASSEM0028': 'A.goose.HongKong.437-6.1999.H5N1.1',\n",
       " 'ASSEM0029': 'A.Philippines.2.1982.H3N2.2',\n",
       " 'ASSEM0030': 'A.Philippines.2.1982.H3N2.3',\n",
       " 'ASSEM0031': 'A.WSN.1933.H1N1.1',\n",
       " 'ASSEM0032': 'A.WSN.1933.H1N1.2',\n",
       " 'ASSEM0033': 'A.HongKong.483.1997.H5N1.1',\n",
       " 'ASSEM0034': 'A.HongKong.483.1997.H5N1.2',\n",
       " 'ASSEM0035': 'A.HongKong.483.1997.H5N1.3',\n",
       " 'ASSEM0036': 'A.HongKong.485.1997.H5N1.1',\n",
       " 'ASSEM0037': 'A.HongKong.485.1997.H5N1.2',\n",
       " 'ASSEM0038': 'A.HongKong.486.1997.H5N1.1',\n",
       " 'ASSEM0039': 'A.HongKong.486.1997.H5N1.2',\n",
       " 'ASSEM0040': 'A.Thailand.16.2004.H5N1.2',\n",
       " 'ASSEM0041': 'A.Memphis.8.1988.H3N2.1',\n",
       " 'ASSEM0042': 'A.turkey.Utah.24721-10.1995.H7N3.1',\n",
       " 'ASSEM0043': 'A.SouthCarolina.1.1918.H1N1.1',\n",
       " 'ASSEM0044': 'A.Kawasaki.173.2001.H1N1.1',\n",
       " 'ASSEM0045': 'A.Kawasaki.UTK-4.2009.H1N1.1',\n",
       " 'ASSEM0046': 'A.VietNam.1204.2004.H5N1.1',\n",
       " 'ASSEM0047': 'A.SolomonIslands.3.2006.H1N1.1',\n",
       " 'ASSEM0048': 'A.Tennessee.1-560.2009.H1N1.1',\n",
       " 'EPIISL138739': 'A.Anhui.1.2013.H7N9.1',\n",
       " 'EPIISL148286': 'A.Jiangsu.1.2011.H1N1.1',\n",
       " 'EPIISL206573': 'A.Hunan.42443.2015.H1N1.1',\n",
       " 'EPIISL85649': 'A.Jiangsu.1.2011.H1N1.2',\n",
       " 'MUT0001': 'A.PR8.LAIV.1934.H1N1.1',\n",
       " 'MUT0002': 'A.PR8.LAIV.1934.H1N1.2',\n",
       " 'MUT0003': 'A.PR8.LAIV.1934.H1N1.3',\n",
       " 'MUT0004': 'A.PR8.11C.1934.H1N1.1',\n",
       " 'MUT0005': 'A.PR8.11C.1934.H1N1.2',\n",
       " 'MUT0006': 'A.PR8.11C.1934.H1N1.3',\n",
       " 'MUT0007': 'A.PR8.LAIV11C.1934.H1N1.1',\n",
       " 'MUT0008': 'A.PR8.LAIV11C.1934.H1N1.2',\n",
       " 'MUT0009': 'A.PR8.LAIV11C.1934.H1N1.3',\n",
       " 'MUT0010': 'A.PR8.Mutant.H1N1.1',\n",
       " 'MUT0011': 'A.PR8.Mutant.H1N1.2',\n",
       " 'MUT0012': 'A.PR8.Mutant.H1N1.3',\n",
       " 'MUT0013': 'rA.Hamburg.05.NP100I.2009.H1N1.1',\n",
       " 'MUT0014': 'rA.Hamburg.05.NP133L.2009.H1N1.1',\n",
       " 'MUT0015': 'rA.Hamburg.05.NP373T.2009.H1N1.1',\n",
       " 'MUT0016': 'A.California.04.MA1.Y.2009.H1N1.1',\n",
       " 'MUT0017': 'A.California.04.MA1.I.2009.H1N1.1',\n",
       " 'MUT0018': 'A.California.04.MA2.I.2009.H1N1.1',\n",
       " 'MUT0019': 'A.Tennessee.1-560.MA1.I.2009.H1N1.1',\n",
       " 'MUT0020': 'A.Tennessee.1-560.MA2.I.2009.H1N1.1',\n",
       " 'MUT0021': 'A.Narita.1.2009.MDCK.H1N1.1',\n",
       " 'MUT0022': 'A.Narita.1.2009.MDCK15.H1N1.1',\n",
       " 'MUT0023': 'A.Narita.1.2009.Egg.H1N1.1',\n",
       " 'MUT0024': 'A.Narita.1.2009.Egg15.H1N1.1',\n",
       " 'MUT0025': 'A.Narita.1.2009.Mouse15.H1N1.1',\n",
       " 'MUT0026': 'A.AH1.KN.H7N9.1',\n",
       " 'MUT0027': 'A.AH1.EN.H7N9.1',\n",
       " 'MUT0028': 'rA.PR8(1234678).NL94(5).G384R.H1N1.1',\n",
       " 'NCBI1000027': 'A.PuertoRico.8.1934.MountSinai.H1N1.1',\n",
       " 'NCBI1000303': 'A.chicken.Korea.es.2003.H5N1.1',\n",
       " 'NCBI1000384': 'A.PuertoRico.8.1934.H1N1.2',\n",
       " 'NCBI1000479': 'A.seal.Massachussetts.1-SC35M.1980.H7N7.1',\n",
       " 'NCBI1000497': 'A.swan.Germany.R65.2006.H5N1.1',\n",
       " 'NCBI1000503': 'A.NewCaledonia.20.1999.H1N1.2',\n",
       " 'NCBI1000504': 'A.Panama.2007.1999.H3N2.3',\n",
       " 'NCBI1000515': 'A.Wisconsin.67.2005.H3N2.1',\n",
       " 'NCBI1000587': 'A.Netherlands.219.2003.H7N7.1',\n",
       " 'NCBI1000671': 'A.Texas.36.1991.H1N1.2',\n",
       " 'NCBI1000945': 'A.hvPR8.1934.H1N1.1',\n",
       " 'NCBI1001047': 'A.Texas.36.1991.H1N1.3',\n",
       " 'NCBI1001121': 'A.Thailand.16.2004.H5N1.1',\n",
       " 'NCBI1001132': 'A.lvPR8.1934.H1N1.1',\n",
       " 'NCBI1002610': 'A.Brisbane.10.2007.H3N2.1',\n",
       " 'NCBI1002638': 'A.chicken.CT.260413-2.2003.H7N2.1',\n",
       " 'NCBI1003530': 'A.Mexico.4108.2009.H1N1.2',\n",
       " 'NCBI1003559': 'A.Mexico.InDRE4487.2009.H1N1.1',\n",
       " 'NCBI1003942': 'A.swine.Kansas.77778.2007.H1N1.1',\n",
       " 'NCBI1004252': 'A.Thailand.KAN-1.2004.H5N1.1',\n",
       " 'NCBI1004331': 'A.turkey.VA.55.2002.H7N2.1',\n",
       " 'NCBI1004341': 'A.Netherlands.602.2009.H1N1.1',\n",
       " 'NCBI1004366': 'A.Texas.15.2009.H1N1.1',\n",
       " 'NCBI1004430': 'A.California.04.2009.H1N1.1',\n",
       " 'NCBI1004832': 'A.duck.Alberta.35.1976.H1N1.1',\n",
       " 'NCBI1005817': 'A.chicken.Indonesia.7.2003.H5N1.1',\n",
       " 'NCBI1006507': 'A.Brisbane.59.2007.H1N1.1',\n",
       " 'NCBI1007315': 'A.Philippines.2.1982.H3N2.1',\n",
       " 'NCBI1011014': 'A.swine.Texas.4199-2.1998.H3N2.1',\n",
       " 'NCBI1012984': 'A.Thailand.KAN-1.2004.H5N1.2',\n",
       " 'NCBI1012986': 'A.VietNam.1203.2004.H5N1.2',\n",
       " 'NCBI1013057': 'A.HongKong.1.1968.H3N2.2',\n",
       " 'NCBI1013136': 'A.Panama.2007.1999.H3N2.4',\n",
       " 'NCBI1013318': 'A.Wisconsin.67.2005.H3N2.2',\n",
       " 'NCBI1013336': 'B.Lee.1940.4',\n",
       " 'NCBI1014826': 'A.swine.Spain.40564.2002.H1N2.1',\n",
       " 'NCBI1015545': 'A.duck.Alberta.35.1976.H1N1.2',\n",
       " 'NCBI1015546': 'A.duck.Ukraine.1.1963.H3N8.2',\n",
       " 'NCBI1015559': 'A.NewJersey.8.1976.H1N1.1',\n",
       " 'NCBI1015563': 'A.turkey.England.1963.H7N3.2',\n",
       " 'NCBI1017982': 'A.ruddyturnstone.Delaware.650625.2002.H6N1.1',\n",
       " 'NCBI1026142': 'A.mallard.Korea.W452.2014.H5N8.1',\n",
       " 'NCBI1027877': 'A.Brisbane.10.2007.H3N2.2',\n",
       " 'NCBI1036623': 'A.environment.Korea.W468.2014.H5N8.1',\n",
       " 'NCBI1037743': 'A.PuertoRico.8.1934.H1N1.3',\n",
       " 'NCBI14656': 'B.Lee.1940.1',\n",
       " 'NCBI15521': 'A.PuertoRico.8.1934.H1N1.1',\n",
       " 'NCBI16714': 'A.HongKong.1.1968.H3N2.1',\n",
       " 'NCBI16775': 'A.Memphis.1.1971.H3N2.1',\n",
       " 'NCBI16782': 'A.VietNam.1203.2004.H5N1.1',\n",
       " 'NCBI16789': 'A.Texas.36.1991.H1N1.1',\n",
       " 'NCBI16801': 'A.NewCaledonia.20.1999.H1N1.1',\n",
       " 'NCBI16807': 'A.Panama.2007.1999.H3N2.1',\n",
       " 'NCBI16808': 'A.Panama.2007.1999.H3N2.2',\n",
       " 'NCBI22435': 'A.duck.Ukraine.1.1963.H3N8.1',\n",
       " 'NCBI23563': 'A.swine.Spain.53207.2004.H1N1.1',\n",
       " 'NCBI24519': 'A.turkey.England.1963.H7N3.1',\n",
       " 'NCBI25349': 'B.Yamagata.16.1988.1',\n",
       " 'NCBI26149': 'A.Brazil.11.1978.H1N1.1',\n",
       " 'NCBI27767': 'A.Mexico.4108.2009.H1N1.1',\n",
       " 'NCBI27810': 'B.Lee.1940.2',\n",
       " 'NCBI27811': 'B.Lee.1940.3',\n",
       " 'NCBI28500': 'A.Mexico.4482.2009.H1N1.1',\n",
       " 'NCBI29421': 'maA.HongKong.1.1968.H3N2.1',\n",
       " 'REC0001': 'rA.hvPR8.1934.H1N1.1',\n",
       " 'REC0002': 'rA.lvPR8.1934.H1N1.1',\n",
       " 'REC0003': 'rA.BJ89(123578).PR8(46).H1N1.1',\n",
       " 'REC0004': 'rA.BJ89(123578).PR8(46).H1N1.2',\n",
       " 'REC0005': 'rA.BJ89(123578).PR8(46).H1N1.3',\n",
       " 'REC0006': 'rA.hvPR8(2345678).lvPR8(1).H1N1.1',\n",
       " 'REC0007': 'rA.hvPR8(1345678).lvPR8(2).H1N1.1',\n",
       " 'REC0008': 'rA.hvPR8(1245678).lvPR8(3).H1N1.1',\n",
       " 'REC0009': 'rA.hvPR8(1235678).lvPR8(4).H1N1.1',\n",
       " 'REC0010': 'rA.hvPR8(1234678).lvPR8(5).H1N1.1',\n",
       " 'REC0011': 'rA.hvPR8(1234578).lvPR8(6).H1N1.1',\n",
       " 'REC0012': 'rA.hvPR8(1234568).lvPR8(7).H1N1.1',\n",
       " 'REC0013': 'rA.hvPR8(1234567).lvPR8(8).H1N1.1',\n",
       " 'REC0014': 'rA.hvPR8(123578).lvPR8(46).H1N1.1',\n",
       " 'REC0015': 'rA.hvPR8(12346).lvPR8(578).H1N1.1',\n",
       " 'REC0016': 'rA.hvPR8(123).lvPR8(45678).H1N1.1',\n",
       " 'REC0017': 'rA.hvPR8(46).lvPR8(123578).H1N1.1',\n",
       " 'REC0018': 'rA.hvPR8(4).lvPR8(1235678).H1N1.1',\n",
       " 'REC0019': 'rA.hvPR8(6).lvPR8(1234578).H1N1.1',\n",
       " 'REC0020': 'rA.PR8M(1235678).PR8F(4).H1N1.1',\n",
       " 'REC0021': 'rA.PR8vMountSinai(1235678).BRAZ78(4).H1N1.1',\n",
       " 'REC0022': 'rA.PR8(1234567).MI63(8).H1N1.1',\n",
       " 'REC0023': 'rA.PR8(1234567).KYG11(8).H1N1.1',\n",
       " 'REC0024': 'rA.PR8(123578).ALB76(46).H1N1.1',\n",
       " 'REC0025': 'rA.PR8(123578).ALB76(46).H1N1.2',\n",
       " 'REC0026': 'rA.PR8(123578).UKR63(46).H3N8.1',\n",
       " 'REC0027': 'rA.PR8(123578).UKR63(46).H3N8.2',\n",
       " 'REC0028': 'rA.HH05(24678).HH15(135).H1N1.1',\n",
       " 'REC0029': 'rA.HH05(123578).HH15(46).H1N1.1',\n",
       " 'REC0030': 'rA.HH05(1234567).HH15(8).H1N1.1',\n",
       " 'REC0031': 'rA.HH05(1234578).HH15(6).H1N1.1',\n",
       " 'REC0032': 'rA.HH05(1234678).HH15(5).H1N1.1',\n",
       " 'REC0033': 'rA.HH05(1235678).HH15(4).H1N1.1',\n",
       " 'REC0034': 'rA.HH05(1345678).HH15(3).H1N1.1',\n",
       " 'REC0035': 'rA.HH05(2345678).HH15(1).H1N1.1',\n",
       " 'REC0036': 'rA.SWE1021(1345678).SWE9706(2).H1N2.1',\n",
       " 'REC0037': 'rA.SWE1021(2).SWE9706(1345678).H1N2.1',\n",
       " 'REC0038': 'rA.PuertoRico.8.1934.H1N1.1',\n",
       " 'REC0039': 'rA.Hamburg.05.2009.H1N1.1',\n",
       " 'REC0040': 'rA.Hamburg.NY1580.2009.H1N1.1',\n",
       " 'REC0041': 'rA.swine.Sweden.1021.2009.H1N2.1',\n",
       " 'REC0042': 'rA.swine.Sweden.9706.2010.H1N2.1',\n",
       " 'REC0043': 'rA.PR8(2345678).PR8M(1).H1N1.1',\n",
       " 'REC0044': 'rA.PR8(1345678).PR8M(2).H1N1.1',\n",
       " 'REC0045': 'rA.PR8(1245678).PR8M(3).H1N1.1',\n",
       " 'REC0046': 'rA.PR8(1235678).PR8M(4).H1N1.1',\n",
       " 'REC0047': 'rA.PR8(1234678).PR8M(5).H1N1.1',\n",
       " 'REC0048': 'rA.PR8(1234578).PR8M(6).H1N1.1',\n",
       " 'REC0049': 'rA.PR8(1234567).PR8M(8).H1N1.1',\n",
       " 'REC0050': 'rA.PR8(4678).PR8M(1235).H1N1.1',\n",
       " 'REC0051': 'rA.SC18(45678).TX91(123).H1N1.1',\n",
       " 'REC0052': 'rA.SC18(1235678).TX91(4).H1N1.1',\n",
       " 'REC0053': 'rA.WSN33(123578).SC18(46).H1N1.1',\n",
       " 'REC0054': 'rA.M88(123578).SC18(46).H1N1.1',\n",
       " 'REC0055': 'rA.M88(123578).SC18(4).K173(6).H1N1.1',\n",
       " 'REC0056': 'rA.M88(123578).WSN33(46).H1N1.1',\n",
       " 'REC0057': 'rA.K173(123578).SC18(46).H1N1.1',\n",
       " 'REC0058': 'rA.K173(1235678).SC18(4).H1N1.1',\n",
       " 'REC0059': 'rA.K173(123578).WSN33(46).H1N1.1',\n",
       " 'REC0060': 'rA.PR8(1234678).NL94(5).H1N1.1',\n",
       " 'REC0061': 'rA.NL602(1235678).NY18(4).H1N1.1'}"
      ]
     },
     "execution_count": 81,
     "metadata": {},
     "output_type": "execute_result"
    }
   ],
   "source": [
    "q"
   ]
  },
  {
   "cell_type": "code",
   "execution_count": 82,
   "metadata": {},
   "outputs": [
    {
     "data": {
      "text/plain": [
       "['A.Narita.1.2009.Egg15.H1N1.1',\n",
       " 'A.Panama.2007.1999.H3N2.4',\n",
       " 'A.California.04.MA2.I.2009.H1N1.1',\n",
       " 'A.Mexico.4482.2009.H1N1.1',\n",
       " 'A.AH1.KN.H7N9.1',\n",
       " 'rA.HH05(2345678).HH15(1).H1N1.1',\n",
       " 'A.SouthCarolina.1.1918.H1N1.1',\n",
       " 'A.Hunan.42443.2015.H1N1.1',\n",
       " 'A.Philippines.2.1982.H3N2.1',\n",
       " 'rA.hvPR8.1934.H1N1.1',\n",
       " 'A.Tennessee.1-560.2009.H1N1.1',\n",
       " 'rA.PR8(123578).UKR63(46).H3N8.1',\n",
       " 'A.Philippines.2.1982.H3N2.2',\n",
       " 'A.California.04.2009.H1N1.1',\n",
       " 'rA.HH05(1234678).HH15(5).H1N1.1',\n",
       " 'rA.BJ89(123578).PR8(46).H1N1.1',\n",
       " 'A.PR8F.1934.H1N1.1',\n",
       " 'A.Mexico.4108.2009.H1N1.1',\n",
       " 'rA.HH05(1235678).HH15(4).H1N1.1',\n",
       " 'A.swine.Texas.4199-2.1998.H3N2.1',\n",
       " 'A.Mexico.InDRE4487.2009.H1N1.1',\n",
       " 'A.hvPR8.1934.H1N1.1',\n",
       " 'rA.PuertoRico.8.1934.H1N1.1',\n",
       " 'rA.swine.Sweden.9706.2010.H1N2.1',\n",
       " 'A.ruddyturnstone.Delaware.650625.2002.H6N1.1',\n",
       " 'A.HongKong.156.1997.H5N1.2',\n",
       " 'A.HongKong.483.1997.H5N1.1',\n",
       " 'A.PR8.11C.1934.H1N1.1',\n",
       " 'A.HongKong.483.1997.H5N1.2',\n",
       " 'A.ma452-G3-2.2014.H5N8.1',\n",
       " 'A.Shanghai.4664T.2013.H7N9.1',\n",
       " 'A.Brisbane.10.2007.H3N2.2',\n",
       " 'rA.hvPR8(2345678).lvPR8(1).H1N1.1',\n",
       " 'rA.SWE1021(1345678).SWE9706(2).H1N2.1',\n",
       " 'A.WSN.1933.H1N1.2',\n",
       " 'A.HongKong.486.1997.H5N1.1',\n",
       " 'A.NewJersey.8.1976.H1N1.1',\n",
       " 'rA.swine.Sweden.1021.2009.H1N2.1',\n",
       " 'A.Panama.2007.1999.H3N2.2',\n",
       " 'A.ma468-G1-2.2014.H5N8.1',\n",
       " 'A.PR8.Mutant.H1N1.3',\n",
       " 'rA.PR8(2345678).PR8M(1).H1N1.1',\n",
       " 'rA.HH05(1345678).HH15(3).H1N1.1',\n",
       " 'A.Wisconsin.67.2005.H3N2.1',\n",
       " 'A.Panama.2007.1999.H3N2.3',\n",
       " 'A.Thailand.16.2004.H5N1.1',\n",
       " 'A.ma468-G2-2.2014.H5N8.1',\n",
       " 'rA.hvPR8(1234678).lvPR8(5).H1N1.1',\n",
       " 'rA.hvPR8(1234568).lvPR8(7).H1N1.1',\n",
       " 'A.PR8.11C.1934.H1N1.2',\n",
       " 'A.Thailand.KAN-1.2004.H5N1.1',\n",
       " 'rA.PR8(123578).ALB76(46).H1N1.2',\n",
       " 'A.AH1.EN.H7N9.1',\n",
       " 'A.Thailand.KAN-1.2004.H5N1.2',\n",
       " 'A.California.04.MA1.Y.2009.H1N1.1',\n",
       " 'rA.lvPR8.1934.H1N1.1',\n",
       " 'A.Memphis.1.1971.H3N2.1',\n",
       " 'rA.hvPR8(1234567).lvPR8(8).H1N1.1',\n",
       " 'A.NewCaledonia.20.1999.H1N1.1',\n",
       " 'rA.X-31.H3N2.2',\n",
       " 'A.swine.Spain.40564.2002.H1N2.1',\n",
       " 'A.duck.Ukraine.1.1963.H3N8.2',\n",
       " 'A.Bellamy.1942.H1N1.1',\n",
       " 'rA.K173(1235678).SC18(4).H1N1.1',\n",
       " 'A.Tennessee.1-560.MA1.I.2009.H1N1.1',\n",
       " 'A.environment.Korea.W468.2014.H5N8.1',\n",
       " 'A.Mexico.4108.2009.H1N1.2',\n",
       " 'A.duck.Alberta.35.1976.H1N1.1',\n",
       " 'A.turkey.Utah.24721-10.1995.H7N3.1',\n",
       " 'A.swan.Germany.R65.2006.H5N1.1',\n",
       " 'rA.hvPR8(12346).lvPR8(578).H1N1.1',\n",
       " 'A.ma468-G2-3.2014.H5N8.1',\n",
       " 'A.turkey.England.1963.H7N3.1',\n",
       " 'rA.K173(123578).SC18(46).H1N1.1',\n",
       " 'maA.HongKong.1.1968.H3N2.1',\n",
       " 'rA.PR8(1234578).PR8M(6).H1N1.1',\n",
       " 'B.Lee.1940.4',\n",
       " 'A.turkey.England.1963.H7N3.2',\n",
       " 'rA.Hamburg.NY1580.2009.H1N1.1',\n",
       " 'A.PR8.LAIV.1934.H1N1.2',\n",
       " 'A.ma468-G4-2.2014.H5N8.1',\n",
       " 'A.Thailand.16.2004.H5N1.2',\n",
       " 'A.seal.Massachussetts.1-SC35M.1980.H7N7.1',\n",
       " 'A.Texas.36.1991.H1N1.3',\n",
       " 'rA.PR8(123578).ALB76(46).H1N1.1',\n",
       " 'A.Narita.1.2009.MDCK.H1N1.1',\n",
       " 'A.Jiangsu.1.2011.H1N1.1',\n",
       " 'A.Hamburg.05.2009.H1N1.1',\n",
       " 'A.Narita.1.2009.MDCK15.H1N1.1',\n",
       " 'rA.PR8(1234567).KYG11(8).H1N1.1',\n",
       " 'A.PR8.Mutant.H1N1.1',\n",
       " 'A.Texas.36.1991.H1N1.2',\n",
       " 'A.swine.Spain.54008.2004.H3N2.1',\n",
       " 'A.Netherlands.219.2003.H7N7.1',\n",
       " 'rA.hvPR8(123578).lvPR8(46).H1N1.1',\n",
       " 'A.lvPR8.1934.H1N1.1',\n",
       " 'rA.hvPR8(1345678).lvPR8(2).H1N1.1',\n",
       " 'B.Lee.1940.2',\n",
       " 'rA.M88(123578).WSN33(46).H1N1.1',\n",
       " 'A.PR8.LAIV.1934.H1N1.3',\n",
       " 'A.VietNam.1204.2004.H5N1.1',\n",
       " 'rA.PR8(1234678).PR8M(5).H1N1.1',\n",
       " 'rA.BJ89(123578).PR8(46).H1N1.2',\n",
       " 'rA.PR8(1234567).MI63(8).H1N1.1',\n",
       " 'rA.WSN33(123578).SC18(46).H1N1.1',\n",
       " 'A.Brisbane.10.2007.H3N2.1',\n",
       " 'A.chicken.Korea.es.2003.H5N1.1',\n",
       " 'A.Kawasaki.UTK-4.2009.H1N1.1',\n",
       " 'A.Panama.2007.1999.H3N2.1',\n",
       " 'rA.HH05(1234567).HH15(8).H1N1.1',\n",
       " 'A.HongKong.1.1968.H3N2.3',\n",
       " 'rA.hvPR8(4).lvPR8(1235678).H1N1.1',\n",
       " 'rA.Hamburg.05.NP100I.2009.H1N1.1',\n",
       " 'A.Hamburg.NY1580.2009.H1N1.1',\n",
       " 'rA.BJ89(123578).PR8(46).H1N1.3',\n",
       " 'rA.hvPR8(46).lvPR8(123578).H1N1.1',\n",
       " 'A.Texas.15.2009.H1N1.1',\n",
       " 'rA.PR8(1234567).PR8M(8).H1N1.1',\n",
       " 'A.swine.Spain.53207.2004.H1N1.1',\n",
       " 'A.PR8.11C.1934.H1N1.3',\n",
       " 'rA.Hamburg.05.NP133L.2009.H1N1.1',\n",
       " 'B.Yamagata.16.1988.1',\n",
       " 'A.Kawasaki.173.2001.H1N1.1',\n",
       " 'rA.hvPR8(6).lvPR8(1234578).H1N1.1',\n",
       " 'A.HongKong.1.1968.H3N2.2',\n",
       " 'rA.PR8(1234678).NL94(5).G384R.H1N1.1',\n",
       " 'A.mallard.Korea.W452.2014.H5N8.1',\n",
       " 'A.PR8.LAIV11C.1934.H1N1.1',\n",
       " 'rA.SWE1021(2).SWE9706(1345678).H1N2.1',\n",
       " 'rA.NL602(1235678).NY18(4).H1N1.1',\n",
       " 'rA.K173(123578).WSN33(46).H1N1.1',\n",
       " 'rA.PR8(1245678).PR8M(3).H1N1.1',\n",
       " 'A.VietNam.1203.2004.H5N1.1',\n",
       " 'A.ma452-G1-1.2014.H5N8.1',\n",
       " 'A.HongKong.483.1997.H5N1.3',\n",
       " 'A.duck.Ukraine.1.1963.H3N8.1',\n",
       " 'A.HongKong.156.1997.H5N1.1',\n",
       " 'rA.PR8(1345678).PR8M(2).H1N1.1',\n",
       " 'A.Brisbane.59.2007.H1N1.1',\n",
       " 'rA.PR8M(1235678).PR8F(4).H1N1.1',\n",
       " 'A.Brazil.11.1978.H1N1.1',\n",
       " 'A.ma452-G3-1.2014.H5N8.1',\n",
       " 'rA.PR8(1235678).PR8M(4).H1N1.1',\n",
       " 'A.chicken.Indonesia.7.2003.H5N1.1',\n",
       " 'rA.PR8(1234678).NL94(5).H1N1.1',\n",
       " 'A.HongKong.485.1997.H5N1.1',\n",
       " 'B.Lee.1940.1',\n",
       " 'A.swine.Kansas.77778.2007.H1N1.1',\n",
       " 'A.Narita.1.2009.Egg.H1N1.1',\n",
       " 'B.Victoria.2.1987.1',\n",
       " 'A.chicken.CT.260413-2.2003.H7N2.1',\n",
       " 'A.Narita.1.2009.Mouse15.H1N1.1',\n",
       " 'rA.HH05(1234578).HH15(6).H1N1.1',\n",
       " 'A.ma468-G1-1.2014.H5N8.1',\n",
       " 'A.turkey.VA.55.2002.H7N2.1',\n",
       " 'A.duck.Alberta.35.1976.H1N1.2',\n",
       " 'A.goose.HongKong.437-6.1999.H5N1.1',\n",
       " 'A.PuertoRico.8.1934.MountSinai.H1N1.1',\n",
       " 'A.WSN.1933.H1N1.1',\n",
       " 'A.California.04.MA1.I.2009.H1N1.1',\n",
       " 'A.ma452-G4-1.2014.H5N8.1',\n",
       " 'rA.Hamburg.05.NP373T.2009.H1N1.1',\n",
       " 'rA.PR8(4678).PR8M(1235).H1N1.1',\n",
       " 'A.NewCaledonia.20.1999.H1N1.2',\n",
       " 'rA.HH05(123578).HH15(46).H1N1.1',\n",
       " 'A.PR8.LAIV11C.1934.H1N1.2',\n",
       " 'A.PuertoRico.8.1934.H1N1.1',\n",
       " 'rA.hvPR8(1234578).lvPR8(6).H1N1.1',\n",
       " 'A.PuertoRico.8.1934.H1N1.2',\n",
       " 'rA.hvPR8(1245678).lvPR8(3).H1N1.1',\n",
       " 'rA.M88(123578).SC18(4).K173(6).H1N1.1',\n",
       " 'rA.SC18(1235678).TX91(4).H1N1.1',\n",
       " 'rA.SC18(45678).TX91(123).H1N1.1',\n",
       " 'A.PR8.LAIV.1934.H1N1.1',\n",
       " 'rA.Hamburg.05.2009.H1N1.1',\n",
       " 'A.Memphis.8.1988.H3N2.1',\n",
       " 'rA.hvPR8(1235678).lvPR8(4).H1N1.1',\n",
       " 'A.Anhui.1.2013.H7N9.1',\n",
       " 'rA.X-31.H3N2.1',\n",
       " 'rA.M88(123578).SC18(46).H1N1.1',\n",
       " 'rA.HH05(24678).HH15(135).H1N1.1',\n",
       " 'A.SolomonIslands.3.2006.H1N1.1',\n",
       " 'A.PR8M.1934.H1N1.1',\n",
       " 'A.ma468-G2-1.2014.H5N8.1',\n",
       " 'rA.PR8vMountSinai(1235678).BRAZ78(4).H1N1.1',\n",
       " 'A.PuertoRico.8.1934.H1N1.3',\n",
       " 'A.Philippines.2.1982.H3N2.3',\n",
       " 'A.Texas.36.1991.H1N1.1',\n",
       " 'A.Netherlands.602.2009.H1N1.1',\n",
       " 'B.Victoria.2.1987.2',\n",
       " 'rA.PR8(123578).UKR63(46).H3N8.2',\n",
       " 'A.HongKong.1.1968.H3N2.1',\n",
       " 'A.PR8.LAIV11C.1934.H1N1.3',\n",
       " 'A.Wisconsin.67.2005.H3N2.2',\n",
       " 'A.Tennessee.1-560.MA2.I.2009.H1N1.1',\n",
       " 'rA.hvPR8(123).lvPR8(45678).H1N1.1',\n",
       " 'A.HongKong.486.1997.H5N1.2',\n",
       " 'A.VietNam.1203.2004.H5N1.2',\n",
       " 'B.Lee.1940.3',\n",
       " 'A.Jiangsu.1.2011.H1N1.2',\n",
       " 'A.PR8.Mutant.H1N1.2',\n",
       " 'A.HongKong.485.1997.H5N1.2']"
      ]
     },
     "execution_count": 82,
     "metadata": {},
     "output_type": "execute_result"
    }
   ],
   "source": [
    "n"
   ]
  },
  {
   "cell_type": "code",
   "execution_count": 78,
   "metadata": {},
   "outputs": [
    {
     "data": {
      "text/plain": [
       "202"
      ]
     },
     "execution_count": 78,
     "metadata": {},
     "output_type": "execute_result"
    }
   ],
   "source": [
    "len(q)"
   ]
  },
  {
   "cell_type": "code",
   "execution_count": 57,
   "metadata": {},
   "outputs": [],
   "source": [
    "names = {}\n",
    "for i in range(len(p)):\n",
    "    names[p[i]] = n[i]"
   ]
  },
  {
   "cell_type": "code",
   "execution_count": 58,
   "metadata": {},
   "outputs": [
    {
     "data": {
      "text/plain": [
       "{'ASSEM0002.A.Shanghai.4664T.2013.H7N9.1.proteome.fasta': 'A.Shanghai.4664T.2013.H7N9.1',\n",
       " 'ASSEM0003.A.HongKong.156.1997.H5N1.1.proteome.fasta': 'A.HongKong.156.1997.H5N1.1',\n",
       " 'ASSEM0004.A.HongKong.156.1997.H5N1.2.proteome.fasta': 'A.HongKong.156.1997.H5N1.2',\n",
       " 'ASSEM0005.A.PR8F.1934.H1N1.1.proteome.fasta': 'A.PR8F.1934.H1N1.1',\n",
       " 'ASSEM0006.A.PR8M.1934.H1N1.1.proteome.fasta': 'A.PR8M.1934.H1N1.1',\n",
       " 'ASSEM0007.A.Hamburg.05.2009.H1N1.1.proteome.fasta': 'A.Hamburg.05.2009.H1N1.1',\n",
       " 'ASSEM0008.A.Hamburg.NY1580.2009.H1N1.1.proteome.fasta': 'A.Hamburg.NY1580.2009.H1N1.1',\n",
       " 'ASSEM0009.A.Bellamy.1942.H1N1.1.proteome.fasta': 'A.Bellamy.1942.H1N1.1',\n",
       " 'ASSEM0010.A.HongKong.1.1968.H3N2.3.proteome.fasta': 'A.HongKong.1.1968.H3N2.3',\n",
       " 'ASSEM0011.B.Victoria.2.1987.1.proteome.fasta': 'B.Victoria.2.1987.1',\n",
       " 'ASSEM0012.B.Victoria.2.1987.2.proteome.fasta': 'B.Victoria.2.1987.2',\n",
       " 'ASSEM0013.A.swine.Spain.54008.2004.H3N2.1.proteome.fasta': 'A.swine.Spain.54008.2004.H3N2.1',\n",
       " 'ASSEM0014.A.ma452-G1-1.2014.H5N8.1.proteome.fasta': 'A.ma452-G1-1.2014.H5N8.1',\n",
       " 'ASSEM0015.A.ma452-G3-1.2014.H5N8.1.proteome.fasta': 'A.ma452-G3-1.2014.H5N8.1',\n",
       " 'ASSEM0016.A.ma452-G3-2.2014.H5N8.1.proteome.fasta': 'A.ma452-G3-2.2014.H5N8.1',\n",
       " 'ASSEM0017.A.ma452-G4-1.2014.H5N8.1.proteome.fasta': 'A.ma452-G4-1.2014.H5N8.1',\n",
       " 'ASSEM0018.A.ma468-G1-1.2014.H5N8.1.proteome.fasta': 'A.ma468-G1-1.2014.H5N8.1',\n",
       " 'ASSEM0019.A.ma468-G1-2.2014.H5N8.1.proteome.fasta': 'A.ma468-G1-2.2014.H5N8.1',\n",
       " 'ASSEM0020.A.ma468-G2-1.2014.H5N8.1.proteome.fasta': 'A.ma468-G2-1.2014.H5N8.1',\n",
       " 'ASSEM0021.A.ma468-G2-2.2014.H5N8.1.proteome.fasta': 'A.ma468-G2-2.2014.H5N8.1',\n",
       " 'ASSEM0022.A.ma468-G2-3.2014.H5N8.1.proteome.fasta': 'A.ma468-G2-3.2014.H5N8.1',\n",
       " 'ASSEM0023.A.ma468-G4-2.2014.H5N8.1.proteome.fasta': 'A.ma468-G4-2.2014.H5N8.1',\n",
       " 'ASSEM0026.rA.X-31.H3N2.1.proteome.fasta': 'rA.X-31.H3N2.1',\n",
       " 'ASSEM0027.rA.X-31.H3N2.2.proteome.fasta': 'rA.X-31.H3N2.2',\n",
       " 'ASSEM0028.A.goose.HongKong.437-6.1999.H5N1.1.proteome.fasta': 'A.goose.HongKong.437-6.1999.H5N1.1',\n",
       " 'ASSEM0029.A.Philippines.2.1982.H3N2.2.proteome.fasta': 'A.Philippines.2.1982.H3N2.2',\n",
       " 'ASSEM0030.A.Philippines.2.1982.H3N2.3.proteome.fasta': 'A.Philippines.2.1982.H3N2.3',\n",
       " 'ASSEM0031.A.WSN.1933.H1N1.1.proteome.fasta': 'A.WSN.1933.H1N1.1',\n",
       " 'ASSEM0032.A.WSN.1933.H1N1.2.proteome.fasta': 'A.WSN.1933.H1N1.2',\n",
       " 'ASSEM0033.A.HongKong.483.1997.H5N1.1.proteome.fasta': 'A.HongKong.483.1997.H5N1.1',\n",
       " 'ASSEM0034.A.HongKong.483.1997.H5N1.2.proteome.fasta': 'A.HongKong.483.1997.H5N1.2',\n",
       " 'ASSEM0035.A.HongKong.483.1997.H5N1.3.proteome.fasta': 'A.HongKong.483.1997.H5N1.3',\n",
       " 'ASSEM0036.A.HongKong.485.1997.H5N1.1.proteome.fasta': 'A.HongKong.485.1997.H5N1.1',\n",
       " 'ASSEM0037.A.HongKong.485.1997.H5N1.2.proteome.fasta': 'A.HongKong.485.1997.H5N1.2',\n",
       " 'ASSEM0038.A.HongKong.486.1997.H5N1.1.proteome.fasta': 'A.HongKong.486.1997.H5N1.1',\n",
       " 'ASSEM0039.A.HongKong.486.1997.H5N1.2.proteome.fasta': 'A.HongKong.486.1997.H5N1.2',\n",
       " 'ASSEM0040.A.Thailand.16.2004.H5N1.2.proteome.fasta': 'A.Thailand.16.2004.H5N1.2',\n",
       " 'ASSEM0041.A.Memphis.8.1988.H3N2.1.proteome.fasta': 'A.Memphis.8.1988.H3N2.1',\n",
       " 'ASSEM0042.A.turkey.Utah.24721-10.1995.H7N3.1.proteome.fasta': 'A.turkey.Utah.24721-10.1995.H7N3.1',\n",
       " 'ASSEM0043.A.SouthCarolina.1.1918.H1N1.1.proteome.fasta': 'A.SouthCarolina.1.1918.H1N1.1',\n",
       " 'ASSEM0044.A.Kawasaki.173.2001.H1N1.1.proteome.fasta': 'A.Kawasaki.173.2001.H1N1.1',\n",
       " 'ASSEM0045.A.Kawasaki.UTK-4.2009.H1N1.1.proteome.fasta': 'A.Kawasaki.UTK-4.2009.H1N1.1',\n",
       " 'ASSEM0046.A.VietNam.1204.2004.H5N1.1.proteome.fasta': 'A.VietNam.1204.2004.H5N1.1',\n",
       " 'ASSEM0047.A.SolomonIslands.3.2006.H1N1.1.proteome.fasta': 'A.SolomonIslands.3.2006.H1N1.1',\n",
       " 'ASSEM0048.A.Tennessee.1-560.2009.H1N1.1.proteome.fasta': 'A.Tennessee.1-560.2009.H1N1.1',\n",
       " 'EPIISL138739.A.Anhui.1.2013.H7N9.1.proteome.fasta': 'A.Anhui.1.2013.H7N9.1',\n",
       " 'EPIISL148286.A.Jiangsu.1.2011.H1N1.1.proteome.fasta': 'A.Jiangsu.1.2011.H1N1.1',\n",
       " 'EPIISL206573.A.Hunan.42443.2015.H1N1.1.proteome.fasta': 'A.Hunan.42443.2015.H1N1.1',\n",
       " 'EPIISL85649.A.Jiangsu.1.2011.H1N1.2.proteome.fasta': 'A.Jiangsu.1.2011.H1N1.2',\n",
       " 'MUT0001.A.PR8.LAIV.1934.H1N1.1.proteome.fasta': 'A.PR8.LAIV.1934.H1N1.1',\n",
       " 'MUT0002.A.PR8.LAIV.1934.H1N1.2.proteome.fasta': 'A.PR8.LAIV.1934.H1N1.2',\n",
       " 'MUT0003.A.PR8.LAIV.1934.H1N1.3.proteome.fasta': 'A.PR8.LAIV.1934.H1N1.3',\n",
       " 'MUT0004.A.PR8.11C.1934.H1N1.1.proteome.fasta': 'A.PR8.11C.1934.H1N1.1',\n",
       " 'MUT0005.A.PR8.11C.1934.H1N1.2.proteome.fasta': 'A.PR8.11C.1934.H1N1.2',\n",
       " 'MUT0006.A.PR8.11C.1934.H1N1.3.proteome.fasta': 'A.PR8.11C.1934.H1N1.3',\n",
       " 'MUT0007.A.PR8.LAIV11C.1934.H1N1.1.proteome.fasta': 'A.PR8.LAIV11C.1934.H1N1.1',\n",
       " 'MUT0008.A.PR8.LAIV11C.1934.H1N1.2.proteome.fasta': 'A.PR8.LAIV11C.1934.H1N1.2',\n",
       " 'MUT0009.A.PR8.LAIV11C.1934.H1N1.3.proteome.fasta': 'A.PR8.LAIV11C.1934.H1N1.3',\n",
       " 'MUT0010.A.PR8.Mutant.H1N1.1.proteome.fasta': 'A.PR8.Mutant.H1N1.1',\n",
       " 'MUT0011.A.PR8.Mutant.H1N1.2.proteome.fasta': 'A.PR8.Mutant.H1N1.2',\n",
       " 'MUT0012.A.PR8.Mutant.H1N1.3.proteome.fasta': 'A.PR8.Mutant.H1N1.3',\n",
       " 'MUT0013.rA.Hamburg.05.NP100I.2009.H1N1.1.proteome.fasta': 'rA.Hamburg.05.NP100I.2009.H1N1.1',\n",
       " 'MUT0014.rA.Hamburg.05.NP133L.2009.H1N1.1.proteome.fasta': 'rA.Hamburg.05.NP133L.2009.H1N1.1',\n",
       " 'MUT0015.rA.Hamburg.05.NP373T.2009.H1N1.1.proteome.fasta': 'rA.Hamburg.05.NP373T.2009.H1N1.1',\n",
       " 'MUT0016.A.California.04.MA1.Y.2009.H1N1.1.proteome.fasta': 'A.California.04.MA1.Y.2009.H1N1.1',\n",
       " 'MUT0017.A.California.04.MA1.I.2009.H1N1.1.proteome.fasta': 'A.California.04.MA1.I.2009.H1N1.1',\n",
       " 'MUT0018.A.California.04.MA2.I.2009.H1N1.1.proteome.fasta': 'A.California.04.MA2.I.2009.H1N1.1',\n",
       " 'MUT0019.A.Tennessee.1-560.MA1.I.2009.H1N1.1.proteome.fasta': 'A.Tennessee.1-560.MA1.I.2009.H1N1.1',\n",
       " 'MUT0020.A.Tennessee.1-560.MA2.I.2009.H1N1.1.proteome.fasta': 'A.Tennessee.1-560.MA2.I.2009.H1N1.1',\n",
       " 'MUT0021.A.Narita.1.2009.MDCK.H1N1.1.proteome.fasta': 'A.Narita.1.2009.MDCK.H1N1.1',\n",
       " 'MUT0022.A.Narita.1.2009.MDCK15.H1N1.1.proteome.fasta': 'A.Narita.1.2009.MDCK15.H1N1.1',\n",
       " 'MUT0023.A.Narita.1.2009.Egg.H1N1.1.proteome.fasta': 'A.Narita.1.2009.Egg.H1N1.1',\n",
       " 'MUT0024.A.Narita.1.2009.Egg15.H1N1.1.proteome.fasta': 'A.Narita.1.2009.Egg15.H1N1.1',\n",
       " 'MUT0025.A.Narita.1.2009.Mouse15.H1N1.1.proteome.fasta': 'A.Narita.1.2009.Mouse15.H1N1.1',\n",
       " 'MUT0026.A.AH1.KN.H7N9.1.fasta': 'A.AH1.KN.H7N9',\n",
       " 'MUT0027.A.AH1.EN.H7N9.1.fasta': 'A.AH1.EN.H7N9',\n",
       " 'MUT0028.rA.PR8(1234678).NL94(5).G384R.H1N1.1.proteome.fasta': 'rA.PR8(1234678).NL94(5).G384R.H1N1.1',\n",
       " 'NCBI1000027.A.PuertoRico.8.1934.MountSinai.H1N1.1.proteome.fasta': 'A.PuertoRico.8.1934.MountSinai.H1N1.1',\n",
       " 'NCBI1000303.A.chicken.Korea.es.2003.H5N1.1.proteome.fasta': 'A.chicken.Korea.es.2003.H5N1.1',\n",
       " 'NCBI1000384.A.PuertoRico.8.1934.H1N1.2.proteome.fasta': 'A.PuertoRico.8.1934.H1N1.2',\n",
       " 'NCBI1000479.A.seal.Massachussetts.1-SC35M.1980.H7N7.1.proteome.fasta': 'A.seal.Massachussetts.1-SC35M.1980.H7N7.1',\n",
       " 'NCBI1000497.A.swan.Germany.R65.2006.H5N1.1.proteome.fasta': 'A.swan.Germany.R65.2006.H5N1.1',\n",
       " 'NCBI1000503.A.NewCaledonia.20.1999.H1N1.2.proteome.fasta': 'A.NewCaledonia.20.1999.H1N1.2',\n",
       " 'NCBI1000504.A.Panama.2007.1999.H3N2.3.proteome.fasta': 'A.Panama.2007.1999.H3N2.3',\n",
       " 'NCBI1000515.A.Wisconsin.67.2005.H3N2.1.proteome.fasta': 'A.Wisconsin.67.2005.H3N2.1',\n",
       " 'NCBI1000587.A.Netherlands.219.2003.H7N7.1.proteome.fasta': 'A.Netherlands.219.2003.H7N7.1',\n",
       " 'NCBI1000671.A.Texas.36.1991.H1N1.2.proteome.fasta': 'A.Texas.36.1991.H1N1.2',\n",
       " 'NCBI1000945.A.hvPR8.1934.H1N1.1.proteome.fasta': 'A.hvPR8.1934.H1N1.1',\n",
       " 'NCBI1001047.A.Texas.36.1991.H1N1.3.proteome.fasta': 'A.Texas.36.1991.H1N1.3',\n",
       " 'NCBI1001121.A.Thailand.16.2004.H5N1.1.proteome.fasta': 'A.Thailand.16.2004.H5N1.1',\n",
       " 'NCBI1001132.A.lvPR8.1934.H1N1.1.proteome.fasta': 'A.lvPR8.1934.H1N1.1',\n",
       " 'NCBI1002610.A.Brisbane.10.2007.H3N2.1.proteome.fasta': 'A.Brisbane.10.2007.H3N2.1',\n",
       " 'NCBI1002638.A.chicken.CT.260413-2.2003.H7N2.1.proteome.fasta': 'A.chicken.CT.260413-2.2003.H7N2.1',\n",
       " 'NCBI1003530.A.Mexico.4108.2009.H1N1.2.proteome.fasta': 'A.Mexico.4108.2009.H1N1.2',\n",
       " 'NCBI1003559.A.Mexico.InDRE4487.2009.H1N1.1.proteome.fasta': 'A.Mexico.InDRE4487.2009.H1N1.1',\n",
       " 'NCBI1003942.A.swine.Kansas.77778.2007.H1N1.1.proteome.fasta': 'A.swine.Kansas.77778.2007.H1N1.1',\n",
       " 'NCBI1004252.A.Thailand.KAN-1.2004.H5N1.1.proteome.fasta': 'A.Thailand.KAN-1.2004.H5N1.1',\n",
       " 'NCBI1004331.A.turkey.VA.55.2002.H7N2.1.proteome.fasta': 'A.turkey.VA.55.2002.H7N2.1',\n",
       " 'NCBI1004341.A.Netherlands.602.2009.H1N1.1.proteome.fasta': 'A.Netherlands.602.2009.H1N1.1',\n",
       " 'NCBI1004366.A.Texas.15.2009.H1N1.1.proteome.fasta': 'A.Texas.15.2009.H1N1.1',\n",
       " 'NCBI1004430.A.California.04.2009.H1N1.1.proteome.fasta': 'A.California.04.2009.H1N1.1',\n",
       " 'NCBI1004832.A.duck.Alberta.35.1976.H1N1.1.proteome.fasta': 'A.duck.Alberta.35.1976.H1N1.1',\n",
       " 'NCBI1005817.A.chicken.Indonesia.7.2003.H5N1.1.proteome.fasta': 'A.chicken.Indonesia.7.2003.H5N1.1',\n",
       " 'NCBI1006507.A.Brisbane.59.2007.H1N1.1.proteome.fasta': 'A.Brisbane.59.2007.H1N1.1',\n",
       " 'NCBI1007315.A.Philippines.2.1982.H3N2.1.proteome.fasta': 'A.Philippines.2.1982.H3N2.1',\n",
       " 'NCBI1011014.A.swine.Texas.4199-2.1998.H3N2.1.proteome.fasta': 'A.swine.Texas.4199-2.1998.H3N2.1',\n",
       " 'NCBI1012984.A.Thailand.KAN-1.2004.H5N1.2.proteome.fasta': 'A.Thailand.KAN-1.2004.H5N1.2',\n",
       " 'NCBI1012986.A.VietNam.1203.2004.H5N1.2.proteome.fasta': 'A.VietNam.1203.2004.H5N1.2',\n",
       " 'NCBI1013057.A.HongKong.1.1968.H3N2.2.proteome.fasta': 'A.HongKong.1.1968.H3N2.2',\n",
       " 'NCBI1013136.A.Panama.2007.1999.H3N2.4.proteome.fasta': 'A.Panama.2007.1999.H3N2.4',\n",
       " 'NCBI1013318.A.Wisconsin.67.2005.H3N2.2.proteome.fasta': 'A.Wisconsin.67.2005.H3N2.2',\n",
       " 'NCBI1013336.B.Lee.1940.4.proteome.fasta': 'B.Lee.1940.4',\n",
       " 'NCBI1014826.A.swine.Spain.40564.2002.H1N2.1.proteome.fasta': 'A.swine.Spain.40564.2002.H1N2.1',\n",
       " 'NCBI1015545.A.duck.Alberta.35.1976.H1N1.2.proteome.fasta': 'A.duck.Alberta.35.1976.H1N1.2',\n",
       " 'NCBI1015546.A.duck.Ukraine.1.1963.H3N8.2.proteome.fasta': 'A.duck.Ukraine.1.1963.H3N8.2',\n",
       " 'NCBI1015559.A.NewJersey.8.1976.H1N1.1.proteome.fasta': 'A.NewJersey.8.1976.H1N1.1',\n",
       " 'NCBI1015563.A.turkey.England.1963.H7N3.2.proteome.fasta': 'A.turkey.England.1963.H7N3.2',\n",
       " 'NCBI1017982.A.ruddyturnstone.Delaware.650625.2002.H6N1.1.proteome.fasta': 'A.ruddyturnstone.Delaware.650625.2002.H6N1.1',\n",
       " 'NCBI1026142.A.mallard.Korea.W452.2014.H5N8.1.proteome.fasta': 'A.mallard.Korea.W452.2014.H5N8.1',\n",
       " 'NCBI1027877.A.Brisbane.10.2007.H3N2.2.proteome.fasta': 'A.Brisbane.10.2007.H3N2.2',\n",
       " 'NCBI1036623.A.environment.Korea.W468.2014.H5N8.1.proteome.fasta': 'A.environment.Korea.W468.2014.H5N8.1',\n",
       " 'NCBI1037743.A.PuertoRico.8.1934.H1N1.3.proteome.fasta': 'A.PuertoRico.8.1934.H1N1.3',\n",
       " 'NCBI14656.B.Lee.1940.1.proteome.fasta': 'B.Lee.1940.1',\n",
       " 'NCBI15521.A.PuertoRico.8.1934.H1N1.1.proteome.fasta': 'A.PuertoRico.8.1934.H1N1.1',\n",
       " 'NCBI16714.A.HongKong.1.1968.H3N2.1.proteome.fasta': 'A.HongKong.1.1968.H3N2.1',\n",
       " 'NCBI16775.A.Memphis.1.1971.H3N2.1.proteome.fasta': 'A.Memphis.1.1971.H3N2.1',\n",
       " 'NCBI16782.A.VietNam.1203.2004.H5N1.1.proteome.fasta': 'A.VietNam.1203.2004.H5N1.1',\n",
       " 'NCBI16789.A.Texas.36.1991.H1N1.1.proteome.fasta': 'A.Texas.36.1991.H1N1.1',\n",
       " 'NCBI16801.A.NewCaledonia.20.1999.H1N1.1.proteome.fasta': 'A.NewCaledonia.20.1999.H1N1.1',\n",
       " 'NCBI16807.A.Panama.2007.1999.H3N2.1.proteome.fasta': 'A.Panama.2007.1999.H3N2.1',\n",
       " 'NCBI16808.A.Panama.2007.1999.H3N2.2.proteome.fasta': 'A.Panama.2007.1999.H3N2.2',\n",
       " 'NCBI22435.A.duck.Ukraine.1.1963.H3N8.1.proteome.fasta': 'A.duck.Ukraine.1.1963.H3N8.1',\n",
       " 'NCBI23563.A.swine.Spain.53207.2004.H1N1.1.proteome.fasta': 'A.swine.Spain.53207.2004.H1N1.1',\n",
       " 'NCBI24519.A.turkey.England.1963.H7N3.1.proteome.fasta': 'A.turkey.England.1963.H7N3.1',\n",
       " 'NCBI25349.B.Yamagata.16.1988.1.proteome.fasta': 'B.Yamagata.16.1988.1',\n",
       " 'NCBI26149.A.Brazil.11.1978.H1N1.1.proteome.fasta': 'A.Brazil.11.1978.H1N1.1',\n",
       " 'NCBI27767.A.Mexico.4108.2009.H1N1.1.proteome.fasta': 'A.Mexico.4108.2009.H1N1.1',\n",
       " 'NCBI27810.B.Lee.1940.2.proteome.fasta': 'B.Lee.1940.2',\n",
       " 'NCBI27811.B.Lee.1940.3.proteome.fasta': 'B.Lee.1940.3',\n",
       " 'NCBI28500.A.Mexico.4482.2009.H1N1.1.proteome.fasta': 'A.Mexico.4482.2009.H1N1.1',\n",
       " 'NCBI29421.maA.HongKong.1.1968.H3N2.1.proteome.fasta': 'maA.HongKong.1.1968.H3N2.1',\n",
       " 'REC0001.rA.hvPR8.1934.H1N1.1.proteome.fasta': 'rA.hvPR8.1934.H1N1.1',\n",
       " 'REC0002.rA.lvPR8.1934.H1N1.1.proteome.fasta': 'rA.lvPR8.1934.H1N1.1',\n",
       " 'REC0003.rA.BJ89(123578).PR8(46).H1N1.1.proteome.fasta': 'rA.BJ89(123578).PR8(46).H1N1.1',\n",
       " 'REC0004.rA.BJ89(123578).PR8(46).H1N1.2.proteome.fasta': 'rA.BJ89(123578).PR8(46).H1N1.2',\n",
       " 'REC0005.rA.BJ89(123578).PR8(46).H1N1.3.proteome.fasta': 'rA.BJ89(123578).PR8(46).H1N1.3',\n",
       " 'REC0006.rA.hvPR8(2345678).lvPR8(1).H1N1.1.proteome.fasta': 'rA.hvPR8(2345678).lvPR8(1).H1N1.1',\n",
       " 'REC0007.rA.hvPR8(1345678).lvPR8(2).H1N1.1.proteome.fasta': 'rA.hvPR8(1345678).lvPR8(2).H1N1.1',\n",
       " 'REC0008.rA.hvPR8(1245678).lvPR8(3).H1N1.1.proteome.fasta': 'rA.hvPR8(1245678).lvPR8(3).H1N1.1',\n",
       " 'REC0009.rA.hvPR8(1235678).lvPR8(4).H1N1.1.proteome.fasta': 'rA.hvPR8(1235678).lvPR8(4).H1N1.1',\n",
       " 'REC0010.rA.hvPR8(1234678).lvPR8(5).H1N1.1.proteome.fasta': 'rA.hvPR8(1234678).lvPR8(5).H1N1.1',\n",
       " 'REC0011.rA.hvPR8(1234578).lvPR8(6).H1N1.1.proteome.fasta': 'rA.hvPR8(1234578).lvPR8(6).H1N1.1',\n",
       " 'REC0012.rA.hvPR8(1234568).lvPR8(7).H1N1.1.proteome.fasta': 'rA.hvPR8(1234568).lvPR8(7).H1N1.1',\n",
       " 'REC0013.rA.hvPR8(1234567).lvPR8(8).H1N1.1.proteome.fasta': 'rA.hvPR8(1234567).lvPR8(8).H1N1.1',\n",
       " 'REC0014.rA.hvPR8(123578).lvPR8(46).H1N1.1.proteome.fasta': 'rA.hvPR8(123578).lvPR8(46).H1N1.1',\n",
       " 'REC0015.rA.hvPR8(12346).lvPR8(578).H1N1.1.proteome.fasta': 'rA.hvPR8(12346).lvPR8(578).H1N1.1',\n",
       " 'REC0016.rA.hvPR8(123).lvPR8(45678).H1N1.1.proteome.fasta': 'rA.hvPR8(123).lvPR8(45678).H1N1.1',\n",
       " 'REC0017.rA.hvPR8(46).lvPR8(123578).H1N1.1.proteome.fasta': 'rA.hvPR8(46).lvPR8(123578).H1N1.1',\n",
       " 'REC0018.rA.hvPR8(4).lvPR8(1235678).H1N1.1.proteome.fasta': 'rA.hvPR8(4).lvPR8(1235678).H1N1.1',\n",
       " 'REC0019.rA.hvPR8(6).lvPR8(1234578).H1N1.1.proteome.fasta': 'rA.hvPR8(6).lvPR8(1234578).H1N1.1',\n",
       " 'REC0020.rA.PR8M(1235678).PR8F(4).H1N1.1.proteome.fasta': 'rA.PR8M(1235678).PR8F(4).H1N1.1',\n",
       " 'REC0021.rA.PR8vMountSinai(1235678).BRAZ78(4).H1N1.1.proteome.fasta': 'rA.PR8vMountSinai(1235678).BRAZ78(4).H1N1.1',\n",
       " 'REC0022.rA.PR8(1234567).MI63(8).H1N1.1.proteome.fasta': 'rA.PR8(1234567).MI63(8).H1N1.1',\n",
       " 'REC0023.rA.PR8(1234567).KYG11(8).H1N1.1.proteome.fasta': 'rA.PR8(1234567).KYG11(8).H1N1.1',\n",
       " 'REC0024.rA.PR8(123578).ALB76(46).H1N1.1.proteome.fasta': 'rA.PR8(123578).ALB76(46).H1N1.1',\n",
       " 'REC0025.rA.PR8(123578).ALB76(46).H1N1.2.proteome.fasta': 'rA.PR8(123578).ALB76(46).H1N1.2',\n",
       " 'REC0026.rA.PR8(123578).UKR63(46).H3N8.1.proteome.fasta': 'rA.PR8(123578).UKR63(46).H3N8.1',\n",
       " 'REC0027.rA.PR8(123578).UKR63(46).H3N8.2.proteome.fasta': 'rA.PR8(123578).UKR63(46).H3N8.2',\n",
       " 'REC0028.rA.HH05(24678).HH15(135).H1N1.1.proteome.fasta': 'rA.HH05(24678).HH15(135).H1N1.1',\n",
       " 'REC0029.rA.HH05(123578).HH15(46).H1N1.1.proteome.fasta': 'rA.HH05(123578).HH15(46).H1N1.1',\n",
       " 'REC0030.rA.HH05(1234567).HH15(8).H1N1.1.proteome.fasta': 'rA.HH05(1234567).HH15(8).H1N1.1',\n",
       " 'REC0031.rA.HH05(1234578).HH15(6).H1N1.1.proteome.fasta': 'rA.HH05(1234578).HH15(6).H1N1.1',\n",
       " 'REC0032.rA.HH05(1234678).HH15(5).H1N1.1.proteome.fasta': 'rA.HH05(1234678).HH15(5).H1N1.1',\n",
       " 'REC0033.rA.HH05(1235678).HH15(4).H1N1.1.proteome.fasta': 'rA.HH05(1235678).HH15(4).H1N1.1',\n",
       " 'REC0034.rA.HH05(1345678).HH15(3).H1N1.1.proteome.fasta': 'rA.HH05(1345678).HH15(3).H1N1.1',\n",
       " 'REC0035.rA.HH05(2345678).HH15(1).H1N1.1.proteome.fasta': 'rA.HH05(2345678).HH15(1).H1N1.1',\n",
       " 'REC0036.rA.SWE1021(1345678).SWE9706(2).H1N2.1.proteome.fasta': 'rA.SWE1021(1345678).SWE9706(2).H1N2.1',\n",
       " 'REC0037.rA.SWE1021(2).SWE9706(1345678).H1N2.1.proteome.fasta': 'rA.SWE1021(2).SWE9706(1345678).H1N2.1',\n",
       " 'REC0038.rA.PuertoRico.8.1934.H1N1.1.proteome.fasta': 'rA.PuertoRico.8.1934.H1N1.1',\n",
       " 'REC0039.rA.Hamburg.05.2009.H1N1.1.proteome.fasta': 'rA.Hamburg.05.2009.H1N1.1',\n",
       " 'REC0040.rA.Hamburg.NY1580.2009.H1N1.1.proteome.fasta': 'rA.Hamburg.NY1580.2009.H1N1.1',\n",
       " 'REC0041.rA.swine.Sweden.1021.2009.H1N2.1.proteome.fasta': 'rA.swine.Sweden.1021.2009.H1N2.1',\n",
       " 'REC0042.rA.swine.Sweden.9706.2010.H1N2.1.proteome.fasta': 'rA.swine.Sweden.9706.2010.H1N2.1',\n",
       " 'REC0043.rA.PR8(2345678).PR8M(1).H1N1.1.proteome.fasta': 'rA.PR8(2345678).PR8M(1).H1N1.1',\n",
       " 'REC0044.rA.PR8(1345678).PR8M(2).H1N1.1.proteome.fasta': 'rA.PR8(1345678).PR8M(2).H1N1.1',\n",
       " 'REC0045.rA.PR8(1245678).PR8M(3).H1N1.1.proteome.fasta': 'rA.PR8(1245678).PR8M(3).H1N1.1',\n",
       " 'REC0046.rA.PR8(1235678).PR8M(4).H1N1.1.proteome.fasta': 'rA.PR8(1235678).PR8M(4).H1N1.1',\n",
       " 'REC0047.rA.PR8(1234678).PR8M(5).H1N1.1.proteome.fasta': 'rA.PR8(1234678).PR8M(5).H1N1.1',\n",
       " 'REC0048.rA.PR8(1234578).PR8M(6).H1N1.1.proteome.fasta': 'rA.PR8(1234578).PR8M(6).H1N1.1',\n",
       " 'REC0049.rA.PR8(1234567).PR8M(8).H1N1.1.proteome.fasta': 'rA.PR8(1234567).PR8M(8).H1N1.1',\n",
       " 'REC0050.rA.PR8(4678).PR8M(1235).H1N1.1.proteome.fasta': 'rA.PR8(4678).PR8M(1235).H1N1.1',\n",
       " 'REC0051.rA.SC18(45678).TX91(123).H1N1.1.proteome.fasta': 'rA.SC18(45678).TX91(123).H1N1.1',\n",
       " 'REC0052.rA.SC18(1235678).TX91(4).H1N1.1.proteome.fasta': 'rA.SC18(1235678).TX91(4).H1N1.1',\n",
       " 'REC0053.rA.WSN33(123578).SC18(46).H1N1.1.proteome.fasta': 'rA.WSN33(123578).SC18(46).H1N1.1',\n",
       " 'REC0054.rA.M88(123578).SC18(46).H1N1.1.proteome.fasta': 'rA.M88(123578).SC18(46).H1N1.1',\n",
       " 'REC0055.rA.M88(123578).SC18(4).K173(6).H1N1.1.proteome.fasta': 'rA.M88(123578).SC18(4).K173(6).H1N1.1',\n",
       " 'REC0056.rA.M88(123578).WSN33(46).H1N1.1.proteome.fasta': 'rA.M88(123578).WSN33(46).H1N1.1',\n",
       " 'REC0057.rA.K173(123578).SC18(46).H1N1.1.proteome.fasta': 'rA.K173(123578).SC18(46).H1N1.1',\n",
       " 'REC0058.rA.K173(1235678).SC18(4).H1N1.1.proteome.fasta': 'rA.K173(1235678).SC18(4).H1N1.1',\n",
       " 'REC0059.rA.K173(123578).WSN33(46).H1N1.1.proteome.fasta': 'rA.K173(123578).WSN33(46).H1N1.1',\n",
       " 'REC0060.rA.PR8(1234678).NL94(5).H1N1.1.proteome.fasta': 'rA.PR8(1234678).NL94(5).H1N1.1',\n",
       " 'REC0061.rA.NL602(1235678).NY18(4).H1N1.1.proteome.fasta': 'rA.NL602(1235678).NY18(4).H1N1.1'}"
      ]
     },
     "execution_count": 58,
     "metadata": {},
     "output_type": "execute_result"
    }
   ],
   "source": [
    "names"
   ]
  },
  {
   "cell_type": "code",
   "execution_count": 59,
   "metadata": {},
   "outputs": [],
   "source": [
    "fpath = 'proteomes_new/'\n",
    "for fname in p:\n",
    "    oldname = fpath + fname\n",
    "    newname = fpath + names[fname]\n",
    "    os.rename(oldname, newname)"
   ]
  },
  {
   "cell_type": "code",
   "execution_count": 60,
   "metadata": {},
   "outputs": [
    {
     "data": {
      "text/plain": [
       "array(['C57BL/6', 'DBA/2J', 'BALB/C', 'A/J', '129S1/SvImJ', 'NOD/ShiLtJ',\n",
       "       'NZO/HILtJ', 'CAST/EiJ', 'PWK/PhJ', 'WSB/EiJ', 'FVB/NJ', 'CBA/J'],\n",
       "      dtype=object)"
      ]
     },
     "execution_count": 60,
     "metadata": {},
     "output_type": "execute_result"
    }
   ],
   "source": [
    "df['Host_strain'].unique()"
   ]
  },
  {
   "cell_type": "code",
   "execution_count": 61,
   "metadata": {},
   "outputs": [],
   "source": [
    "replace_dict = {'C57BL/6': 'C57BL6NJ',\n",
    "                'DBA/2J': 'DBA2J',\n",
    "                'BALB/C': 'BALBcJ',\n",
    "                'A/J': 'AJ',\n",
    "                '129S1/SvImJ': '129S1SvImJ',\n",
    "                'NOD/ShiLtJ': 'NODShiLtJ',\n",
    "                'CAST/EiJ': 'CASTEiJ',\n",
    "                'PWK/PhJ': 'PWKPhJ',\n",
    "                'WSB/EiJ': 'WSBEiJ',\n",
    "                'FVB/NJ': 'FVBNJ',\n",
    "                'CBA/J': 'CBAJ',\n",
    "                'NZO/HILtJ': 'NZOHlLtJ'}"
   ]
  },
  {
   "cell_type": "code",
   "execution_count": 62,
   "metadata": {},
   "outputs": [],
   "source": [
    "df['Host_strain'].replace(replace_dict, inplace=True)"
   ]
  },
  {
   "cell_type": "code",
   "execution_count": 66,
   "metadata": {},
   "outputs": [],
   "source": [
    "mice = set(df['Host_strain'].unique())"
   ]
  },
  {
   "cell_type": "code",
   "execution_count": 67,
   "metadata": {},
   "outputs": [
    {
     "data": {
      "text/plain": [
       "{'129S1SvImJ',\n",
       " 'AJ',\n",
       " 'BALBcJ',\n",
       " 'C57BL6NJ',\n",
       " 'CASTEiJ',\n",
       " 'CBAJ',\n",
       " 'DBA2J',\n",
       " 'FVBNJ',\n",
       " 'NODShiLtJ',\n",
       " 'NZOHlLtJ',\n",
       " 'PWKPhJ',\n",
       " 'WSBEiJ'}"
      ]
     },
     "execution_count": 67,
     "metadata": {},
     "output_type": "execute_result"
    }
   ],
   "source": [
    "mice"
   ]
  },
  {
   "cell_type": "code",
   "execution_count": 64,
   "metadata": {},
   "outputs": [],
   "source": [
    "df.to_csv('VirulencePredictor/VP/data/merged.csv', sep=',')"
   ]
  },
  {
   "cell_type": "code",
   "execution_count": 68,
   "metadata": {},
   "outputs": [],
   "source": [
    "with open('VirulencePredictor/VP/data/mouse_ids.pkl', 'w') as f:\n",
    "    pickle.dump(mice, f)"
   ]
  },
  {
   "cell_type": "code",
   "execution_count": 69,
   "metadata": {},
   "outputs": [],
   "source": [
    "p = []\n",
    "for fname in os.listdir('old_proteomes/'):\n",
    "    p.append(fname)"
   ]
  },
  {
   "cell_type": "code",
   "execution_count": 71,
   "metadata": {},
   "outputs": [],
   "source": [
    "strain = [x.split('.')[0] for x in p]"
   ]
  },
  {
   "cell_type": "code",
   "execution_count": 74,
   "metadata": {},
   "outputs": [
    {
     "data": {
      "text/plain": [
       "202"
      ]
     },
     "execution_count": 74,
     "metadata": {},
     "output_type": "execute_result"
    }
   ],
   "source": [
    "len(set(strain))"
   ]
  },
  {
   "cell_type": "code",
   "execution_count": 83,
   "metadata": {},
   "outputs": [],
   "source": [
    "with open('VirulencePredictor/VP/data/virus_ids.pkl', 'w') as f:\n",
    "    pickle.dump(q, f)"
   ]
  },
  {
   "cell_type": "code",
   "execution_count": null,
   "metadata": {},
   "outputs": [],
   "source": []
  }
 ],
 "metadata": {
  "kernelspec": {
   "display_name": "Python 2",
   "language": "python",
   "name": "python2"
  },
  "language_info": {
   "codemirror_mode": {
    "name": "ipython",
    "version": 2
   },
   "file_extension": ".py",
   "mimetype": "text/x-python",
   "name": "python",
   "nbconvert_exporter": "python",
   "pygments_lexer": "ipython2",
   "version": "2.7.15"
  }
 },
 "nbformat": 4,
 "nbformat_minor": 2
}
