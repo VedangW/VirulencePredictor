{
 "cells": [
  {
   "cell_type": "markdown",
   "metadata": {},
   "source": [
    "This module creates visualisations for the bipartite graph which specifies the LD50 interactions between the hosts and the pathogens."
   ]
  },
  {
   "cell_type": "code",
   "execution_count": 1,
   "metadata": {},
   "outputs": [],
   "source": [
    "import pickle\n",
    "import numpy as np\n",
    "import pandas as pd\n",
    "import networkx as nx"
   ]
  },
  {
   "cell_type": "code",
   "execution_count": 2,
   "metadata": {},
   "outputs": [],
   "source": [
    "# Read data\n",
    "df = pd.read_csv('changed.csv')\n",
    "\n",
    "mice = df['Host_strain'].unique()\n",
    "viruses = df['Influenza_virus_name'].unique()"
   ]
  },
  {
   "cell_type": "code",
   "execution_count": 4,
   "metadata": {},
   "outputs": [],
   "source": [
    "# Create a dictionary which specifies an index for\n",
    "# each node which can be later added to a graph.\n",
    "\n",
    "count = 1\n",
    "node_dict = {}\n",
    "\n",
    "# Add viruses\n",
    "for v in viruses:\n",
    "    node_dict[v] = count\n",
    "    count += 1\n",
    "    \n",
    "# Add mice\n",
    "for m in mice:\n",
    "    node_dict[m] = count\n",
    "    count += 1"
   ]
  },
  {
   "cell_type": "code",
   "execution_count": 5,
   "metadata": {},
   "outputs": [],
   "source": [
    "# Create a list of tuples to feed to \n",
    "# the network.\n",
    "network = []\n",
    "for index, row in df.iterrows():\n",
    "    v_node = node_dict[row['Host_strain']]\n",
    "    m_node = node_dict[row['Influenza_virus_name']]\n",
    "    weight = row['LD50']\n",
    "    network.append((v_node, m_node, {'weight': weight}))"
   ]
  },
  {
   "cell_type": "markdown",
   "metadata": {},
   "source": [
    "Create graph with only edges and set"
   ]
  },
  {
   "cell_type": "code",
   "execution_count": 7,
   "metadata": {},
   "outputs": [
    {
     "data": {
      "text/plain": [
       "<networkx.classes.graph.Graph at 0x7f38b4539350>"
      ]
     },
     "execution_count": 7,
     "metadata": {},
     "output_type": "execute_result"
    }
   ],
   "source": [
    "# Create new graph\n",
    "G = nx.Graph()\n",
    "G.add_edges_from(network)\n",
    "\n",
    "G"
   ]
  },
  {
   "cell_type": "code",
   "execution_count": 9,
   "metadata": {},
   "outputs": [],
   "source": [
    "# All viruses are set 1\n",
    "for i in range(1, 170):\n",
    "    G.node[i]['Set'] = 1\n",
    "    \n",
    "# All mice are set 2\n",
    "for i in range(170, 182):\n",
    "    G.node[i]['Set'] = 2 "
   ]
  },
  {
   "cell_type": "code",
   "execution_count": 11,
   "metadata": {},
   "outputs": [],
   "source": [
    "nx.write_graphml(G,'visualise_set.graphml')"
   ]
  },
  {
   "cell_type": "markdown",
   "metadata": {},
   "source": [
    "Create graph with node attributes such as name of the node"
   ]
  },
  {
   "cell_type": "code",
   "execution_count": 12,
   "metadata": {},
   "outputs": [],
   "source": [
    "# Create new graph\n",
    "G = nx.Graph()\n",
    "G.add_edges_from(network)\n",
    "\n",
    "# List of names by reversing the node_dict\n",
    "names_dict = {v: k for k, v in node_dict.iteritems()}"
   ]
  },
  {
   "cell_type": "code",
   "execution_count": 13,
   "metadata": {},
   "outputs": [],
   "source": [
    "# Set name attribute\n",
    "for i in range(1, 182):\n",
    "    G.node[i]['Name'] = names_dict[i]\n",
    "    \n",
    "# Set 'Set attribute'\n",
    "for i in range(1, 170):\n",
    "    G.node[i]['Set'] = 1\n",
    "for i in range(170, 182):\n",
    "    G.node[i]['Set'] = 2 "
   ]
  },
  {
   "cell_type": "code",
   "execution_count": 15,
   "metadata": {},
   "outputs": [],
   "source": [
    "nx.write_graphml(G,'visualise_with_names.graphml')"
   ]
  }
 ],
 "metadata": {
  "kernelspec": {
   "display_name": "Python 2",
   "language": "python",
   "name": "python2"
  },
  "language_info": {
   "codemirror_mode": {
    "name": "ipython",
    "version": 2
   },
   "file_extension": ".py",
   "mimetype": "text/x-python",
   "name": "python",
   "nbconvert_exporter": "python",
   "pygments_lexer": "ipython2",
   "version": "2.7.15"
  }
 },
 "nbformat": 4,
 "nbformat_minor": 2
}
