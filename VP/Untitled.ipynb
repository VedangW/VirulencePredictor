{
 "cells": [
  {
   "cell_type": "code",
   "execution_count": 26,
   "metadata": {},
   "outputs": [],
   "source": [
    "def encode_sequences_from_file(fname, dirname):\n",
    "    \"\"\" Function to get the encodings for all\n",
    "        sequences from a fasta file which is aligned.\n",
    "\n",
    "        This encoding method uses AAIndex to get the\n",
    "        encodings. The amino acid index used for this\n",
    "        currently is 'JOND920101' - Relative frequency \n",
    "        of occurrence (Jones et al., 1992).\n",
    "\n",
    "        Parameters\n",
    "        ----------\n",
    "        fname: str\n",
    "            Name of the file from which to read sequences.\n",
    "\n",
    "        dirname: str\n",
    "            Name of the file in which 'fname' is present.\n",
    "\n",
    "        Returns\n",
    "        -------\n",
    "        encoded: list\n",
    "            A list of the encoded sequences.\n",
    "\n",
    "        log: list\n",
    "            A log containing any errors encountered.\t\n",
    "    \"\"\"\n",
    "\n",
    "    # Define the path to the file\n",
    "    fpath = dirname + '/' + fname\n",
    "\n",
    "    # Read file as a set of Quantiprot sequences\n",
    "    sequences = load_fasta_file(fpath)\n",
    "\n",
    "    # Create a Feature object\n",
    "    aa2freq_map = get_aaindex_file(\"JOND920101\")\n",
    "    aa2freq_map.mapping['-'] = 0.0\n",
    "    aa2freq_map.mapping['X'] = 0.0\n",
    "    freq_feat = Feature(aa2freq_map)\n",
    "\n",
    "    # Encode sequences using relative frequency\n",
    "    encoded, log = [], []\n",
    "    for seq in sequences:\n",
    "        try:\n",
    "            f = freq_feat(seq)\n",
    "            encoded.append(f.data)\n",
    "        except:\n",
    "            # For logging errors\n",
    "            e, message, _tb = sys.exc_info()\n",
    "            log.append(fname + ': line ' + str(e) + ': ' + str(message))\n",
    "            continue\n",
    "\n",
    "    return encoded, log"
   ]
  },
  {
   "cell_type": "code",
   "execution_count": 1,
   "metadata": {},
   "outputs": [],
   "source": [
    "import os\n",
    "import sys\n",
    "import click\n",
    "import pickle\n",
    "import argparse\n",
    "\n",
    "from quantiprot.utils.mapping import simplify\n",
    "from quantiprot.utils.io import load_fasta_file\n",
    "from quantiprot.metrics.aaindex import get_aaindex_file\n",
    "from quantiprot.utils.feature import Feature, FeatureSet\n",
    "from quantiprot.utils.sequence import SequenceSet, subset, columns"
   ]
  },
  {
   "cell_type": "code",
   "execution_count": 27,
   "metadata": {},
   "outputs": [],
   "source": [
    "enc, log = encode_sequences_from_file('Seg2p1_aligned', 'aligned')"
   ]
  },
  {
   "cell_type": "code",
   "execution_count": 28,
   "metadata": {},
   "outputs": [
    {
     "data": {
      "text/plain": [
       "(215, 759)"
      ]
     },
     "execution_count": 28,
     "metadata": {},
     "output_type": "execute_result"
    }
   ],
   "source": [
    "np.shape (enc)"
   ]
  },
  {
   "cell_type": "code",
   "execution_count": 29,
   "metadata": {},
   "outputs": [
    {
     "data": {
      "text/plain": [
       "[]"
      ]
     },
     "execution_count": 29,
     "metadata": {},
     "output_type": "execute_result"
    }
   ],
   "source": [
    "log"
   ]
  },
  {
   "cell_type": "code",
   "execution_count": 3,
   "metadata": {},
   "outputs": [],
   "source": [
    "sequences = load_fasta_file('aligned/Seg2p2_aligned')\n",
    "\n",
    "aa2freq_map = get_aaindex_file(\"JOND920101\")\n",
    "freq_feat = Feature(aa2freq_map)"
   ]
  },
  {
   "cell_type": "code",
   "execution_count": 5,
   "metadata": {},
   "outputs": [
    {
     "name": "stdout",
     "output_type": "stream",
     "text": [
      "Quantiprot Feature object\n",
      "  'name': JOND920101\n",
      "  'function': JOND920101\n",
      "  scanning 'window': 0\n"
     ]
    }
   ],
   "source": [
    "print freq_feat"
   ]
  },
  {
   "cell_type": "code",
   "execution_count": 10,
   "metadata": {},
   "outputs": [],
   "source": [
    "m = aa2freq_map"
   ]
  },
  {
   "cell_type": "code",
   "execution_count": 14,
   "metadata": {},
   "outputs": [],
   "source": [
    "m.mapping['-'] = 0.0"
   ]
  },
  {
   "cell_type": "code",
   "execution_count": 15,
   "metadata": {},
   "outputs": [
    {
     "name": "stdout",
     "output_type": "stream",
     "text": [
      "Quantiprot Mapping object\n",
      "  '__name__': JOND920101\n",
      "  'mapping': {'A': 0.077, 'C': 0.02, 'E': 0.062, 'D': 0.052, 'G': 0.074, 'F': 0.04, 'I': 0.053, 'H': 0.023, 'K': 0.059, '-': 0.0, 'M': 0.024, 'L': 0.091, 'N': 0.043, 'Q': 0.041, 'P': 0.051, 'S': 0.069, 'R': 0.051, 'T': 0.059, 'W': 0.014, 'V': 0.066, 'Y': 0.032}\n",
      "  'default': None\n",
      "  'misc': {'journal': 'CABIOS 8, 275-282 (1992)', 'title': 'The rapid generation of mutation data matrices from protein sequences', 'index_id': 'JOND920101', 'description': 'Relative frequency of occurrence (Jones et al., 1992)', 'authors': 'Jones, D.T., Taylor, W.R. and Thornton, J.M.'}\n"
     ]
    }
   ],
   "source": [
    "print m"
   ]
  },
  {
   "cell_type": "code",
   "execution_count": 16,
   "metadata": {},
   "outputs": [],
   "source": [
    "freq_feat = Feature(m)"
   ]
  },
  {
   "cell_type": "code",
   "execution_count": 30,
   "metadata": {},
   "outputs": [],
   "source": [
    "x = freq_feat(sequences[99])"
   ]
  },
  {
   "cell_type": "code",
   "execution_count": 31,
   "metadata": {},
   "outputs": [
    {
     "name": "stdout",
     "output_type": "stream",
     "text": [
      "Quantiprot Sequence object\n",
      "  'identifier': tr|ASSEM0018_ID0034p2_A/ma468-G1-1/2014(H5N8)_Seg2p2\n",
      "  'feature': JOND920101\n",
      "  'data': [0.024, 0.062, 0.041, 0.062, 0.041, 0.052, 0.059, 0.051, 0.014, 0.059, 0.041, 0.069, 0.059, 0.062, 0.051, 0.053, 0.043, 0.059, 0.041, 0.059, 0.051, 0.062, 0.069, 0.074, 0.041, 0.041, 0.059, 0.051, 0.051, 0.091, 0.062, 0.023, 0.051, 0.043, 0.069, 0.059, 0.041, 0.091, 0.024, 0.052, 0.023, 0.032, 0.091, 0.051, 0.053, 0.059, 0.069, 0.041, 0.077, 0.052, 0.024, 0.023, 0.059, 0.051, 0.053, 0.066, 0.02, 0.014, 0.059, 0.041, 0.014, 0.091, 0.04, 0.091, 0.059, 0.069, 0.051, 0.059, 0.041, 0.074, 0.069, 0.091, 0.059, 0.059, 0.023, 0.066, 0.091, 0.059, 0.041, 0.014, 0.059, 0.091, 0.04, 0.043, 0.059, 0.041, 0.062, 0.014, 0.059, 0.043]\n"
     ]
    }
   ],
   "source": [
    "print x"
   ]
  },
  {
   "cell_type": "code",
   "execution_count": 34,
   "metadata": {},
   "outputs": [],
   "source": [
    "directory = 'aligned'\n",
    "\n",
    "files = os.listdir(directory)\n",
    "\n",
    "# Encode all sequences in all files\n",
    "# in the given directory\n",
    "full_log, enc_seqs = [], []\n",
    "for fname in files:\n",
    "    enc, log = encode_sequences_from_file(fname, directory)\n",
    "    enc_seqs.append(enc)\n",
    "    full_log += log"
   ]
  },
  {
   "cell_type": "code",
   "execution_count": 35,
   "metadata": {},
   "outputs": [
    {
     "data": {
      "text/plain": [
       "[\"Seg5p1_aligned: line <type 'exceptions.KeyError'>: 'B'\"]"
      ]
     },
     "execution_count": 35,
     "metadata": {},
     "output_type": "execute_result"
    }
   ],
   "source": [
    "full_log"
   ]
  },
  {
   "cell_type": "code",
   "execution_count": 36,
   "metadata": {},
   "outputs": [
    {
     "data": {
      "text/plain": [
       "(13,)"
      ]
     },
     "execution_count": 36,
     "metadata": {},
     "output_type": "execute_result"
    }
   ],
   "source": [
    "np.shape(enc_seqs)"
   ]
  },
  {
   "cell_type": "code",
   "execution_count": 37,
   "metadata": {},
   "outputs": [],
   "source": [
    "def pad_sequences(seqs):\n",
    "\tlengths = [len(x) for x in seqs]\n",
    "\tm = max(lengths)\n",
    "\n",
    "\tfor i in range(len(seqs)):\n",
    "\t\twhile (len(seqs[i]) < max):\n",
    "\t\t\tseqs[i].append(0.)\n",
    "\n",
    "\treturn seqs"
   ]
  },
  {
   "cell_type": "code",
   "execution_count": 38,
   "metadata": {},
   "outputs": [
    {
     "ename": "KeyboardInterrupt",
     "evalue": "",
     "output_type": "error",
     "traceback": [
      "\u001b[0;31m---------------------------------------------------------------------------\u001b[0m",
      "\u001b[0;31mKeyboardInterrupt\u001b[0m                         Traceback (most recent call last)",
      "\u001b[0;32m<ipython-input-38-44ac6b7646ec>\u001b[0m in \u001b[0;36m<module>\u001b[0;34m()\u001b[0m\n\u001b[0;32m----> 1\u001b[0;31m \u001b[0mpadded\u001b[0m \u001b[0;34m=\u001b[0m \u001b[0mpad_sequences\u001b[0m\u001b[0;34m(\u001b[0m\u001b[0menc_seqs\u001b[0m\u001b[0;34m)\u001b[0m\u001b[0;34m\u001b[0m\u001b[0m\n\u001b[0m",
      "\u001b[0;32m<ipython-input-37-ff176224a549>\u001b[0m in \u001b[0;36mpad_sequences\u001b[0;34m(seqs)\u001b[0m\n\u001b[1;32m      5\u001b[0m         \u001b[0;32mfor\u001b[0m \u001b[0mi\u001b[0m \u001b[0;32min\u001b[0m \u001b[0mrange\u001b[0m\u001b[0;34m(\u001b[0m\u001b[0mlen\u001b[0m\u001b[0;34m(\u001b[0m\u001b[0mseqs\u001b[0m\u001b[0;34m)\u001b[0m\u001b[0;34m)\u001b[0m\u001b[0;34m:\u001b[0m\u001b[0;34m\u001b[0m\u001b[0m\n\u001b[1;32m      6\u001b[0m                 \u001b[0;32mwhile\u001b[0m \u001b[0;34m(\u001b[0m\u001b[0mlen\u001b[0m\u001b[0;34m(\u001b[0m\u001b[0mseqs\u001b[0m\u001b[0;34m[\u001b[0m\u001b[0mi\u001b[0m\u001b[0;34m]\u001b[0m\u001b[0;34m)\u001b[0m \u001b[0;34m<\u001b[0m \u001b[0mmax\u001b[0m\u001b[0;34m)\u001b[0m\u001b[0;34m:\u001b[0m\u001b[0;34m\u001b[0m\u001b[0m\n\u001b[0;32m----> 7\u001b[0;31m                         \u001b[0mseqs\u001b[0m\u001b[0;34m[\u001b[0m\u001b[0mi\u001b[0m\u001b[0;34m]\u001b[0m\u001b[0;34m.\u001b[0m\u001b[0mappend\u001b[0m\u001b[0;34m(\u001b[0m\u001b[0;36m0.\u001b[0m\u001b[0;34m)\u001b[0m\u001b[0;34m\u001b[0m\u001b[0m\n\u001b[0m\u001b[1;32m      8\u001b[0m \u001b[0;34m\u001b[0m\u001b[0m\n\u001b[1;32m      9\u001b[0m         \u001b[0;32mreturn\u001b[0m \u001b[0mseqs\u001b[0m\u001b[0;34m\u001b[0m\u001b[0m\n",
      "\u001b[0;31mKeyboardInterrupt\u001b[0m: "
     ]
    }
   ],
   "source": [
    "padded = pad_sequences(enc_seqs)"
   ]
  },
  {
   "cell_type": "code",
   "execution_count": 39,
   "metadata": {},
   "outputs": [
    {
     "ename": "MemoryError",
     "evalue": "",
     "output_type": "error",
     "traceback": [
      "\u001b[0;31m---------------------------------------------------------------------------\u001b[0m",
      "\u001b[0;31mMemoryError\u001b[0m                               Traceback (most recent call last)",
      "\u001b[0;32m<ipython-input-39-466f37a18adc>\u001b[0m in \u001b[0;36m<module>\u001b[0;34m()\u001b[0m\n\u001b[1;32m      1\u001b[0m \u001b[0;32mfor\u001b[0m \u001b[0ma\u001b[0m \u001b[0;32min\u001b[0m \u001b[0menc_seqs\u001b[0m\u001b[0;34m:\u001b[0m\u001b[0;34m\u001b[0m\u001b[0m\n\u001b[0;32m----> 2\u001b[0;31m     \u001b[0;32mprint\u001b[0m \u001b[0mnp\u001b[0m\u001b[0;34m.\u001b[0m\u001b[0mshape\u001b[0m\u001b[0;34m(\u001b[0m\u001b[0ma\u001b[0m\u001b[0;34m)\u001b[0m\u001b[0;34m\u001b[0m\u001b[0m\n\u001b[0m",
      "\u001b[0;32m/home/vedang/.local/lib/python2.7/site-packages/numpy/core/fromnumeric.pyc\u001b[0m in \u001b[0;36mshape\u001b[0;34m(a)\u001b[0m\n\u001b[1;32m   1652\u001b[0m         \u001b[0mresult\u001b[0m \u001b[0;34m=\u001b[0m \u001b[0ma\u001b[0m\u001b[0;34m.\u001b[0m\u001b[0mshape\u001b[0m\u001b[0;34m\u001b[0m\u001b[0m\n\u001b[1;32m   1653\u001b[0m     \u001b[0;32mexcept\u001b[0m \u001b[0mAttributeError\u001b[0m\u001b[0;34m:\u001b[0m\u001b[0;34m\u001b[0m\u001b[0m\n\u001b[0;32m-> 1654\u001b[0;31m         \u001b[0mresult\u001b[0m \u001b[0;34m=\u001b[0m \u001b[0masarray\u001b[0m\u001b[0;34m(\u001b[0m\u001b[0ma\u001b[0m\u001b[0;34m)\u001b[0m\u001b[0;34m.\u001b[0m\u001b[0mshape\u001b[0m\u001b[0;34m\u001b[0m\u001b[0m\n\u001b[0m\u001b[1;32m   1655\u001b[0m     \u001b[0;32mreturn\u001b[0m \u001b[0mresult\u001b[0m\u001b[0;34m\u001b[0m\u001b[0m\n\u001b[1;32m   1656\u001b[0m \u001b[0;34m\u001b[0m\u001b[0m\n",
      "\u001b[0;32m/home/vedang/.local/lib/python2.7/site-packages/numpy/core/numeric.pyc\u001b[0m in \u001b[0;36masarray\u001b[0;34m(a, dtype, order)\u001b[0m\n\u001b[1;32m    490\u001b[0m \u001b[0;34m\u001b[0m\u001b[0m\n\u001b[1;32m    491\u001b[0m     \"\"\"\n\u001b[0;32m--> 492\u001b[0;31m     \u001b[0;32mreturn\u001b[0m \u001b[0marray\u001b[0m\u001b[0;34m(\u001b[0m\u001b[0ma\u001b[0m\u001b[0;34m,\u001b[0m \u001b[0mdtype\u001b[0m\u001b[0;34m,\u001b[0m \u001b[0mcopy\u001b[0m\u001b[0;34m=\u001b[0m\u001b[0mFalse\u001b[0m\u001b[0;34m,\u001b[0m \u001b[0morder\u001b[0m\u001b[0;34m=\u001b[0m\u001b[0morder\u001b[0m\u001b[0;34m)\u001b[0m\u001b[0;34m\u001b[0m\u001b[0m\n\u001b[0m\u001b[1;32m    493\u001b[0m \u001b[0;34m\u001b[0m\u001b[0m\n\u001b[1;32m    494\u001b[0m \u001b[0;34m\u001b[0m\u001b[0m\n",
      "\u001b[0;31mMemoryError\u001b[0m: "
     ]
    }
   ],
   "source": [
    "for a in enc_seqs:\n",
    "    print np.shape(a)"
   ]
  },
  {
   "cell_type": "code",
   "execution_count": null,
   "metadata": {},
   "outputs": [],
   "source": []
  }
 ],
 "metadata": {
  "kernelspec": {
   "display_name": "Python 2",
   "language": "python",
   "name": "python2"
  },
  "language_info": {
   "codemirror_mode": {
    "name": "ipython",
    "version": 2
   },
   "file_extension": ".py",
   "mimetype": "text/x-python",
   "name": "python",
   "nbconvert_exporter": "python",
   "pygments_lexer": "ipython2",
   "version": "2.7.15"
  }
 },
 "nbformat": 4,
 "nbformat_minor": 2
}
