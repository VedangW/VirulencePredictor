{
 "cells": [
  {
   "cell_type": "markdown",
   "metadata": {},
   "source": [
    "## Feature Generation"
   ]
  },
  {
   "cell_type": "markdown",
   "metadata": {},
   "source": [
    "To generate the features from the Influenza virus strains, the following steps are taken:\n",
    "1. Extract the specific segments from each of the different viruses and store them into separate segment files.\n",
    "2. Align each segment file using Clustal Omega and store back as a fasta file.\n",
    "3. Preprocess each alignment file by replacing any unknown symbols except '-' with an 'X'.\n",
    "4. For each alignment file, encode the sequences from the file according to AAIndex (Relative frequency of occurence) using Quantiprot.\n",
    "5. Gather the encoded sequences from each alignment file in the form of a dictionary where the keys are the identifiers in the file or the Influenza strains.\n",
    "6. Recombine the sequences corresponding to each segment for each Influenza strain.\n",
    "7. For each virus strain, concatenate its sequences to form a large embedding (~10e4).\n",
    "8. Use an autoencoder to reduce the dimensionality to around 100 features by training all samples on it once and then using the encoder to encode these sequences."
   ]
  },
  {
   "cell_type": "markdown",
   "metadata": {},
   "source": [
    "**Setting the environment**"
   ]
  },
  {
   "cell_type": "code",
   "execution_count": 1,
   "metadata": {},
   "outputs": [],
   "source": [
    "import os\n",
    "import sys\n",
    "import click\n",
    "import pickle\n",
    "import argparse\n",
    "import numpy as np\n",
    "\n",
    "from quantiprot.utils.mapping import simplify\n",
    "from quantiprot.utils.io import load_fasta_file\n",
    "from quantiprot.metrics.aaindex import get_aaindex_file\n",
    "from quantiprot.utils.feature import Feature, FeatureSet\n",
    "from quantiprot.utils.sequence import SequenceSet, subset, columns"
   ]
  },
  {
   "cell_type": "code",
   "execution_count": 2,
   "metadata": {},
   "outputs": [],
   "source": [
    "def encode_sequences_from_file(fname, dirname):\n",
    "    \"\"\" Function to get the encodings for all\n",
    "        sequences from a fasta file which is aligned.\n",
    "\n",
    "        This encoding method uses AAIndex to get the\n",
    "        encodings. The amino acid index used for this\n",
    "        currently is 'JOND920101' - Relative frequency \n",
    "        of occurrence (Jones et al., 1992).\n",
    "\n",
    "        Parameters\n",
    "        ----------\n",
    "        fname: str\n",
    "            Name of the file from which to read sequences.\n",
    "\n",
    "        dirname: str\n",
    "            Name of the file in which 'fname' is present.\n",
    "\n",
    "        Returns\n",
    "        -------\n",
    "        encoded: list\n",
    "            A list of the encoded sequences.\n",
    "\n",
    "        log: list\n",
    "            A log containing any errors encountered.\n",
    "    \"\"\"\n",
    "\n",
    "    # Define the path to the file\n",
    "    fpath = dirname + '/' + fname\n",
    "\n",
    "    # Read file as a set of Quantiprot sequences\n",
    "    sequences = load_fasta_file(fpath)\n",
    "\n",
    "    # Create a Feature object\n",
    "    aa2freq_map = get_aaindex_file(\"JOND920101\")\n",
    "    aa2freq_map.mapping['-'] = 0.0\n",
    "    aa2freq_map.mapping['X'] = 0.0\n",
    "    freq_feat = Feature(aa2freq_map)\n",
    "\n",
    "    # Encode sequences using relative frequency\n",
    "    encoded, log = [], []\n",
    "    for seq in sequences:\n",
    "        try:\n",
    "            f = freq_feat(seq)\n",
    "            encoded.append(f.data)\n",
    "        except:\n",
    "            # For logging errors\n",
    "            e, message, _tb = sys.exc_info()\n",
    "            log.append(fname + ': line ' + str(e) + ': ' + str(message))\n",
    "            continue\n",
    "\n",
    "    return encoded, log"
   ]
  },
  {
   "cell_type": "markdown",
   "metadata": {},
   "source": [
    "Encode the sequences for each alignment file."
   ]
  },
  {
   "cell_type": "code",
   "execution_count": 3,
   "metadata": {},
   "outputs": [],
   "source": [
    "dirname = 'aligned'\n",
    "files = os.listdir(dirname)\n",
    "\n",
    "# Encode all sequences in all files\n",
    "# in the given directory\n",
    "full_log, enc_seqs = [], []\n",
    "for fname in files:\n",
    "    enc, log = encode_sequences_from_file(fname, dirname)\n",
    "    enc_seqs.append(enc)\n",
    "    full_log += log"
   ]
  },
  {
   "cell_type": "code",
   "execution_count": null,
   "metadata": {},
   "outputs": [],
   "source": [
    "np.shape(log)"
   ]
  },
  {
   "cell_type": "code",
   "execution_count": null,
   "metadata": {},
   "outputs": [],
   "source": [
    "log"
   ]
  },
  {
   "cell_type": "code",
   "execution_count": null,
   "metadata": {},
   "outputs": [],
   "source": [
    "np.shape(enc_seqs)"
   ]
  },
  {
   "cell_type": "code",
   "execution_count": null,
   "metadata": {},
   "outputs": [],
   "source": [
    "for x in enc_seqs:\n",
    "    print np.shape(x)"
   ]
  },
  {
   "cell_type": "code",
   "execution_count": null,
   "metadata": {},
   "outputs": [],
   "source": [
    "full_log"
   ]
  },
  {
   "cell_type": "code",
   "execution_count": null,
   "metadata": {},
   "outputs": [],
   "source": [
    "for i in range(len(enc_seqs)):\n",
    "    enc_seqs[i] = np.array(enc_seqs[i])"
   ]
  },
  {
   "cell_type": "code",
   "execution_count": null,
   "metadata": {},
   "outputs": [],
   "source": [
    "enc_seqs[0]"
   ]
  },
  {
   "cell_type": "code",
   "execution_count": null,
   "metadata": {},
   "outputs": [],
   "source": [
    "sizes = []\n",
    "for a in enc_seqs:\n",
    "    sizes.append(a.shape[1])"
   ]
  },
  {
   "cell_type": "code",
   "execution_count": null,
   "metadata": {},
   "outputs": [],
   "source": [
    "m = max(sizes)"
   ]
  },
  {
   "cell_type": "code",
   "execution_count": null,
   "metadata": {},
   "outputs": [],
   "source": [
    "m"
   ]
  },
  {
   "cell_type": "code",
   "execution_count": null,
   "metadata": {},
   "outputs": [],
   "source": [
    "samp = enc_seqs[0]"
   ]
  },
  {
   "cell_type": "code",
   "execution_count": null,
   "metadata": {},
   "outputs": [],
   "source": [
    "samp"
   ]
  },
  {
   "cell_type": "code",
   "execution_count": null,
   "metadata": {},
   "outputs": [],
   "source": [
    "from keras.preprocessing.sequence import pad_sequences"
   ]
  },
  {
   "cell_type": "code",
   "execution_count": null,
   "metadata": {},
   "outputs": [],
   "source": [
    "s = pad_sequences(samp, maxlen=772, dtype='float32', padding='post', value=0.0)"
   ]
  },
  {
   "cell_type": "code",
   "execution_count": null,
   "metadata": {},
   "outputs": [],
   "source": [
    "s"
   ]
  },
  {
   "cell_type": "code",
   "execution_count": null,
   "metadata": {},
   "outputs": [],
   "source": [
    "for i in range(len(enc_seqs)):\n",
    "    enc_seqs[i] = pad_sequences(enc_seqs[i], maxlen=772, dtype='float32', padding='post', value=0.0)"
   ]
  },
  {
   "cell_type": "code",
   "execution_count": null,
   "metadata": {},
   "outputs": [],
   "source": [
    "samp"
   ]
  },
  {
   "cell_type": "code",
   "execution_count": null,
   "metadata": {},
   "outputs": [],
   "source": [
    "np.shape(enc_seqs)"
   ]
  },
  {
   "cell_type": "code",
   "execution_count": null,
   "metadata": {},
   "outputs": [],
   "source": [
    "enc_seqs[8]"
   ]
  },
  {
   "cell_type": "code",
   "execution_count": null,
   "metadata": {},
   "outputs": [],
   "source": [
    "for a in enc_seqs:\n",
    "    print a.shape"
   ]
  },
  {
   "cell_type": "code",
   "execution_count": null,
   "metadata": {},
   "outputs": [],
   "source": [
    "np.shape(enc_seqs[0][1])"
   ]
  },
  {
   "cell_type": "code",
   "execution_count": null,
   "metadata": {},
   "outputs": [],
   "source": [
    "list(np.zeros((772,)))"
   ]
  },
  {
   "cell_type": "code",
   "execution_count": null,
   "metadata": {},
   "outputs": [],
   "source": [
    "sequences = load_fasta_file('aligned/Seg2p1_aligned')"
   ]
  },
  {
   "cell_type": "code",
   "execution_count": null,
   "metadata": {},
   "outputs": [],
   "source": [
    "print sequences"
   ]
  },
  {
   "cell_type": "code",
   "execution_count": null,
   "metadata": {},
   "outputs": [],
   "source": [
    "print sequences[0]"
   ]
  },
  {
   "cell_type": "code",
   "execution_count": null,
   "metadata": {},
   "outputs": [],
   "source": [
    "ids = []\n",
    "for s in sequences:\n",
    "    ids.append(s.identifier)"
   ]
  },
  {
   "cell_type": "code",
   "execution_count": null,
   "metadata": {},
   "outputs": [],
   "source": [
    "ids"
   ]
  },
  {
   "cell_type": "code",
   "execution_count": null,
   "metadata": {},
   "outputs": [],
   "source": [
    "def get_identifiers(fpath):\n",
    "    sequences = load_fasta_file(fpath)\n",
    "    \n",
    "    print sequences\n",
    "    \n",
    "    ids = []\n",
    "    for s in sequences:\n",
    "        i = s.identifier\n",
    "        i = i.split('_')\n",
    "        i.pop()\n",
    "        i = '_'.join(i)\n",
    "        i = i.split('|')\n",
    "        i.pop(0)\n",
    "        i = ''.join(i)\n",
    "        ids.append(i)\n",
    "        \n",
    "    return ids"
   ]
  },
  {
   "cell_type": "code",
   "execution_count": null,
   "metadata": {},
   "outputs": [],
   "source": [
    "i1 = get_identifiers('aligned/Seg2p1_aligned')"
   ]
  },
  {
   "cell_type": "code",
   "execution_count": null,
   "metadata": {},
   "outputs": [],
   "source": [
    "i1"
   ]
  },
  {
   "cell_type": "code",
   "execution_count": null,
   "metadata": {},
   "outputs": [],
   "source": [
    "i2 = get_identifiers('aligned/Seg3p1_aligned')"
   ]
  },
  {
   "cell_type": "code",
   "execution_count": null,
   "metadata": {},
   "outputs": [],
   "source": [
    "i2"
   ]
  },
  {
   "cell_type": "code",
   "execution_count": null,
   "metadata": {},
   "outputs": [],
   "source": [
    "set(i1).intersection(i2)"
   ]
  },
  {
   "cell_type": "code",
   "execution_count": null,
   "metadata": {},
   "outputs": [],
   "source": [
    "i1[0]"
   ]
  },
  {
   "cell_type": "code",
   "execution_count": null,
   "metadata": {},
   "outputs": [],
   "source": [
    "i2[0]"
   ]
  },
  {
   "cell_type": "code",
   "execution_count": null,
   "metadata": {},
   "outputs": [],
   "source": [
    "i1[0] == i2[0]"
   ]
  },
  {
   "cell_type": "code",
   "execution_count": null,
   "metadata": {},
   "outputs": [],
   "source": [
    "r = []\n",
    "for x in os.listdir('aligned'):\n",
    "    print x\n",
    "    r.append(get_identifiers('aligned/' + x))"
   ]
  },
  {
   "cell_type": "code",
   "execution_count": null,
   "metadata": {},
   "outputs": [],
   "source": [
    "np.shape(r)"
   ]
  },
  {
   "cell_type": "code",
   "execution_count": null,
   "metadata": {},
   "outputs": [],
   "source": [
    "for a in r:\n",
    "    print np.shape(a)"
   ]
  },
  {
   "cell_type": "code",
   "execution_count": null,
   "metadata": {},
   "outputs": [],
   "source": [
    "i1\n"
   ]
  },
  {
   "cell_type": "code",
   "execution_count": null,
   "metadata": {},
   "outputs": [],
   "source": [
    "i2"
   ]
  },
  {
   "cell_type": "code",
   "execution_count": null,
   "metadata": {},
   "outputs": [],
   "source": []
  }
 ],
 "metadata": {
  "kernelspec": {
   "display_name": "Python 2",
   "language": "python",
   "name": "python2"
  },
  "language_info": {
   "codemirror_mode": {
    "name": "ipython",
    "version": 2
   },
   "file_extension": ".py",
   "mimetype": "text/x-python",
   "name": "python",
   "nbconvert_exporter": "python",
   "pygments_lexer": "ipython2",
   "version": "2.7.15"
  }
 },
 "nbformat": 4,
 "nbformat_minor": 2
}
